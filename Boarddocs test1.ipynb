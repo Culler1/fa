{
 "cells": [
  {
   "cell_type": "code",
   "execution_count": 1,
   "id": "476d3e59",
   "metadata": {},
   "outputs": [],
   "source": [
    "from selenium import webdriver\n",
    "from selenium.webdriver.common.by import By\n",
    "from webdriver_manager.chrome import ChromeDriverManager\n",
    "import requests"
   ]
  },
  {
   "cell_type": "code",
   "execution_count": 7,
   "id": "2342fed6",
   "metadata": {},
   "outputs": [],
   "source": [
    "# Set up Chrome WebDriver\n",
    "driver = webdriver.Chrome()\n",
    "\n",
    "# URL of the website\n",
    "url = \"https://go.boarddocs.com/pa/farr/Board.nsf/public\"\n",
    "\n",
    "# Open the website in the browser\n",
    "driver.get(url)\n",
    "element = driver.find_element(By.LINK_TEXT,\"POLICIES\")\n",
    "#element.click()\n",
    "driver.execute_script(\"arguments[0].click()\",element)"
   ]
  },
  {
   "cell_type": "code",
   "execution_count": null,
   "id": "946700c8",
   "metadata": {},
   "outputs": [],
   "source": [
    "https://go.boarddocs.com/pa/dert/Board.nsf/Public"
   ]
  },
  {
   "cell_type": "code",
   "execution_count": 8,
   "id": "9ad65c9b",
   "metadata": {},
   "outputs": [],
   "source": [
    "# Set up Chrome WebDriver\n",
    "driver = webdriver.Chrome()\n",
    "\n",
    "# URL of the website\n",
    "url = \"https://go.boarddocs.com/pa/dert/Board.nsf/Public\"\n",
    "\n",
    "# Open the website in the browser\n",
    "driver.get(url)\n",
    "element = driver.find_element(By.LINK_TEXT,\"POLICIES\")\n",
    "#element.click()\n",
    "driver.execute_script(\"arguments[0].click()\",element)"
   ]
  },
  {
   "cell_type": "code",
   "execution_count": null,
   "id": "79401a71",
   "metadata": {},
   "outputs": [],
   "source": [
    "https://go.boarddocs.com/az/liberty25/Board.nsf/Public"
   ]
  },
  {
   "cell_type": "code",
   "execution_count": 9,
   "id": "57c57c06",
   "metadata": {},
   "outputs": [],
   "source": [
    "# Set up Chrome WebDriver\n",
    "driver = webdriver.Chrome()\n",
    "\n",
    "# URL of the website\n",
    "url = \"https://go.boarddocs.com/az/liberty25/Board.nsf/Public\"\n",
    "\n",
    "# Open the website in the browser\n",
    "driver.get(url)\n",
    "element = driver.find_element(By.LINK_TEXT,\"POLICIES\")\n",
    "#element.click()\n",
    "driver.execute_script(\"arguments[0].click()\",element)"
   ]
  },
  {
   "cell_type": "code",
   "execution_count": null,
   "id": "e1d807eb",
   "metadata": {},
   "outputs": [],
   "source": []
  }
 ],
 "metadata": {
  "kernelspec": {
   "display_name": "Python 3 (ipykernel)",
   "language": "python",
   "name": "python3"
  },
  "language_info": {
   "codemirror_mode": {
    "name": "ipython",
    "version": 3
   },
   "file_extension": ".py",
   "mimetype": "text/x-python",
   "name": "python",
   "nbconvert_exporter": "python",
   "pygments_lexer": "ipython3",
   "version": "3.10.5"
  }
 },
 "nbformat": 4,
 "nbformat_minor": 5
}
