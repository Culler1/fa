{
 "cells": [
  {
   "cell_type": "code",
   "execution_count": 123,
   "id": "2342fed6",
   "metadata": {},
   "outputs": [
    {
     "name": "stdout",
     "output_type": "stream",
     "text": [
      "[]\n"
     ]
    }
   ],
   "source": [
    "from selenium import webdriver\n",
    "from selenium.webdriver.common.by import By\n",
    "from webdriver_manager.chrome import ChromeDriverManager\n",
    "import requests\n",
    "from bs4 import BeautifulSoup\n",
    "\n",
    "# Set up Chrome WebDriver\n",
    "driver = webdriver.Chrome()\n",
    "\n",
    "# URL of the website\n",
    "url = \"https://go.boarddocs.com/pa/farr/Board.nsf/public\"\n",
    "\n",
    "# Open the website in the browser\n",
    "driver.get(url)\n",
    "element = driver.find_element(By.LINK_TEXT,\"POLICIES\")\n",
    "#element.click()\n",
    "driver.execute_script(\"arguments[0].click()\",element)\n",
    "\n",
    "# Wait for the page to load before getting the source\n",
    "driver.implicitly_wait(30)\n",
    "\n",
    "#MAJOR NOTE: For some reason, running the code under this line in the same cell yeilds no results. Running it in \n",
    "# a new cell seems to work\n",
    "\n",
    "# soup = BeautifulSoup(driver.page_source, \"html.parser\")\n",
    "# # Find all elements with href=\"#\"\n",
    "# href_elements = soup.findChildren(attrs={'href': \"#\", 'unique': True})\n",
    "\n",
    "# # Extract the values of the \"unique\" attribute from each href element\n",
    "# unique_values = [element.get('unique') for element in href_elements]\n",
    "\n",
    "# # Print the unique values\n",
    "# print(unique_values)\n"
   ]
  },
  {
   "cell_type": "code",
   "execution_count": 124,
   "id": "fc8e8896",
   "metadata": {
    "scrolled": true
   },
   "outputs": [
    {
     "name": "stdout",
     "output_type": "stream",
     "text": [
      "['A2TQVZ6B39D3', 'A2TQW36B3BDC', 'A2TQW46B3D25', 'A2TQW56B3E8F', 'A2TQW76B406B', 'A2TQWB6B459F', 'A2TQWE6B4922', 'C2AP8G635F11', 'A2TQWS6B56AD', 'A2TQWT6B583E', 'A2TQWV6B59DA', 'A2TQWY6B5DF7', 'A2TQWZ6B5EC2', 'A2TQX26B5F95', 'CCBPTM663041', 'A2TQX76B65DA', 'A2TQXA6B691B', 'A2TQXC6B6B6A', 'A2TQXD6B6D5A', 'A2TQXF6B6F2F', 'A2TQXG6B70EF', 'A2TQXJ6B72DB', 'A2TQXL6B74E7', 'A2TQXM6B76B0', 'A2TQXN6B7765', 'A2TQXP6B78CF', 'A2TQXR6B7ADD', 'A2TQXY6B8364', 'A2TQY26B8578', 'A2TQY46B8843', 'A2TQY56B89AA', 'A2TQY76B8B2F', 'A2TQY86B8CD5', 'A2TQYA6B8EC6', 'A2TQYB6B90A7', 'A2TQYE6B9326', 'A2TQYG6B960F', 'A2TQYK6B991B', 'A2TQYL6B99F2', 'A2TQYM6B9AEF', 'A2TQYN6B9C78', 'A2TQYP6B9E9C', 'A2TQYT6BA2B7', 'A2TQYV6BA56B', 'A2TQYX6BA7DD', 'A2TQYZ6BAA71', 'A2TQZ36BABC2', 'A2TQZ46BAD24', 'A2TQZ76BB083', 'A2TQZ96BB2B9', 'A2TQZB6BB547', 'A2TQZC6BB6C7', 'A2TQZD6BB851', 'AYFPRD64CD4B', 'A2TQZF6BBA86', 'A2TQZJ6BBD6F', 'A2TQZM6BC0D9', 'A2TQZS6BC6DD', 'A2TQZT6BC7BC', 'A2TQZU6BC915', 'A2TQZV6BC9DE', 'A2TQZW6BCB05', 'A2TQZX6BCCE7', 'A2TR226BD037', 'A2TR246BD264', 'A2TR256BD33A', 'A2TR266BD467', 'A2TR276BD600', 'A2TR286BD6BD', 'A2TR296BD7E8', 'A2TR2A6BD950', 'AKBR2961FD87', 'A2TR2C6BDBFF', 'A2TR2E6BDE8A', 'A2TR2G6BE180', 'A2TR2J6BE2D6', 'A2TR2K6BE433', 'A2TR2N6BE80E', 'A2TR2P6BE8C9', 'A2TR2Q6BEA3A', 'A2TR2R6BEAEF', 'A2TR2S6BEBAD', 'A2TR2T6BECE6', 'A2TR2U6BEE22', 'A2TR2W6BF1AD', 'A2TR2Y6BF3DC', 'A2TR326BF5B4', 'A2TR336BF719', 'A2TR346BF8A5', 'A2TR356BF98F', 'A2TR3B6C00D7', 'A2TR3C6C025A', 'A2TR3G6C0686', 'AL5SDW723B46', 'A2TR3K6C0A39', 'A2TR3L6C0BB2', 'B8CE8770B247', 'A2TR3S6C11F4', 'A2TR3V6C1557', 'A2TR3Y6C1993', 'A2TR446C1D79', 'CCDNFP5FC028', 'A2TR496C235A', 'A2TR4A6C257C', 'A2TR4D6C27F1', 'A2TR4F6C2A6C', 'A2TR4G6C2BED', 'A2TR4H6C2DB5', 'A2TR4L6C3032', 'A2TR4M6C3227', 'A2TR4P6C33F9', 'A2TR4R6C364D', 'A2TR4S6C37FA', 'A2TR4U6C3A36', 'A2TR4W6C3BE1', 'A2TR4X6C3E04', 'A2TR4Z6C3F56', 'A2TR526C4074', 'A2TR536C4233', 'A2TR546C4330', 'A2TR566C4554', 'A2TR576C4631', 'A2TR586C4720', 'A2TR596C4820', 'A2TR5A6C4A1E', 'A2TR5C6C4CDC', 'A2TR5D6C4E2B', 'A2TR5G6C50F9', 'A2TR5H6C52BD', 'A2TR5J6C5390', 'A2TR5K6C5443', 'A2TR5L6C55ED', 'A2TR5M6C56B8', 'A2TR5N6C5817', 'A2TR5P6C59E5', 'A2TR5R6C5C99', 'A2TR5S6C5D7C', 'A2TR5T6C5E5D', 'A2TR5V6C6143', 'A2TR626C66BE', 'A2TR636C67A0', 'A2TR646C68AA', 'A2TR656C6990', 'A2TR666C6A6D', 'A2TR676C6B6E', 'A2TR6B6C70F4', 'A2TR6C6C7256', 'A2TR6D6C7300', 'A2TR6E6C7535', 'A2TR6G6C76E4', 'A2TR6J6C794E', 'A2TR6K6C7A2E', 'A2TR6L6C7AFB', 'A2TR6M6C7BDE', 'A2TR6N6C7CDA', 'A2TR6R6C8131', 'A2TR6S6C8270', 'A2TR6T6C833A', 'A2TR6U6C83F1', 'A2TR6V6C84D6', 'A2TR6W6C8582', 'A2TR6X6C8653', 'A2TR6Y6C896A', 'A2TR6Z6C8A38', 'A2TR726C8C9C', 'A2TR746C8EB4', 'A2TR776C9239', 'A2TR786C9374', 'A2TR796C94D1', 'A2TR7B6C96CB', 'AFPLH4567943', 'AFPQK669A2E3', 'AFPMC8598121', 'ABULBE55A2E4', 'ABYN455DE84F', 'A2TR7C6C97D2', 'A2TR7D6C995B', 'A2TR7F6C9B06', 'A2TR7G6C9C6A', 'A2TR7J6C9E55', 'A2TR7K6CA01F', 'A2TR7L6CA1B9', 'A2TR7P6CA50E', 'A2TR7Q6CA5D1', 'A2TR7S6CA7E1', 'A2TR7T6CA8A1', 'A2TR7U6CA96F', 'A2TR7V6CAB9F', 'A2TR7W6CAC56', 'A2TR856CB568', 'A2TR8E6CBF1E', 'A2TR8F6CC005', 'A2TR8G6CC0E4', 'A2TR8H6CC1AD', 'B9HR827A456D', 'A2TR8N6CC96E', 'A2TR8P6CCA44', 'A2TR8R6CCD10', 'A2TR8U6CCF89', 'A2TR8V6CD03C', 'A2TR8W6CD12E', 'A2TR8X6CD221', 'A2TR8Y6CD3CE', 'AL5SDX723B48', 'A2TR956CDAE6', 'A2TR966CDBA9', 'A2TR986CDDCD', 'AL5SDY723B49', 'A2TR996CDEC0', 'A2TR9A6CDFF8', 'A2TR9C6CE309', 'A2TR9E6CE555', 'A2TR9G6CE732', 'AKEGR6450441', 'A2TR9K6CEAB2', 'A2TR9L6CEC85', 'A2TR9M6CED6B', 'A2TR9R6CF177', 'A2TR9S6CF25E', 'A2TR9T6CF43D', 'A2TR9U6CF51C', 'A2TR9V6CF682', 'A2TR9W6CF817', 'A2TR9Y6CF9D0', 'A2TRA46CFF1A', 'A2TRA56D006D', 'A2TRA66D0125', 'A2TRA76D01D7', 'A2TRA86D028F', 'A2TRA96D03E0', 'A2TRAA6D05FC']\n"
     ]
    }
   ],
   "source": [
    "soup = BeautifulSoup(driver.page_source, \"html.parser\")\n",
    "# Find all elements with href=\"#\"\n",
    "href_elements = soup.findChildren(attrs={'href': \"#\", 'unique': True})\n",
    "\n",
    "# Extract the values of the \"unique\" attribute from each href element\n",
    "unique_values = [element.get('unique') for element in href_elements]\n",
    "\n",
    "# Print the unique values\n",
    "print(unique_values)\n"
   ]
  },
  {
   "cell_type": "code",
   "execution_count": 127,
   "id": "16e1b7ff",
   "metadata": {},
   "outputs": [
    {
     "data": {
      "text/plain": [
       "'A2TQVZ6B39D3'"
      ]
     },
     "execution_count": 127,
     "metadata": {},
     "output_type": "execute_result"
    }
   ],
   "source": [
    "unique_values[0]"
   ]
  },
  {
   "cell_type": "code",
   "execution_count": null,
   "id": "48cb1482",
   "metadata": {},
   "outputs": [],
   "source": [
    "http://go.boarddocs.com/pa/farr/Board.nsf/goto?open&id=B9HR827A456D"
   ]
  },
  {
   "cell_type": "code",
   "execution_count": 141,
   "id": "a911c6bf",
   "metadata": {},
   "outputs": [
    {
     "data": {
      "text/plain": [
       "'https://go.boarddocs.com/pa/farr/Board.nsf/goto?open&id=A2TQVZ6B39D3'"
      ]
     },
     "execution_count": 141,
     "metadata": {},
     "output_type": "execute_result"
    }
   ],
   "source": [
    "url[:43]+\"goto?open&id=\"+unique_values[0]"
   ]
  },
  {
   "cell_type": "code",
   "execution_count": 69,
   "id": "4583bf36",
   "metadata": {},
   "outputs": [],
   "source": [
    "links1=soup.find('a',class_='icon prevnext policy')"
   ]
  },
  {
   "cell_type": "code",
   "execution_count": 94,
   "id": "94ee8114",
   "metadata": {},
   "outputs": [
    {
     "data": {
      "text/plain": [
       "['A2TQVZ6B39D3',\n",
       " 'A2TQW36B3BDC',\n",
       " 'A2TQW46B3D25',\n",
       " 'A2TQW56B3E8F',\n",
       " 'A2TQW76B406B',\n",
       " 'A2TQWB6B459F',\n",
       " 'A2TQWE6B4922',\n",
       " 'C2AP8G635F11',\n",
       " 'A2TQWS6B56AD',\n",
       " 'A2TQWT6B583E',\n",
       " 'A2TQWV6B59DA',\n",
       " 'A2TQWY6B5DF7',\n",
       " 'A2TQWZ6B5EC2',\n",
       " 'A2TQX26B5F95',\n",
       " 'CCBPTM663041',\n",
       " 'A2TQX76B65DA',\n",
       " 'A2TQXA6B691B',\n",
       " 'A2TQXC6B6B6A',\n",
       " 'A2TQXD6B6D5A',\n",
       " 'A2TQXF6B6F2F',\n",
       " 'A2TQXG6B70EF',\n",
       " 'A2TQXJ6B72DB',\n",
       " 'A2TQXL6B74E7',\n",
       " 'A2TQXM6B76B0',\n",
       " 'A2TQXN6B7765',\n",
       " 'A2TQXP6B78CF',\n",
       " 'A2TQXR6B7ADD',\n",
       " 'A2TQXY6B8364',\n",
       " 'A2TQY26B8578',\n",
       " 'A2TQY46B8843',\n",
       " 'A2TQY56B89AA',\n",
       " 'A2TQY76B8B2F',\n",
       " 'A2TQY86B8CD5',\n",
       " 'A2TQYA6B8EC6',\n",
       " 'A2TQYB6B90A7',\n",
       " 'A2TQYE6B9326',\n",
       " 'A2TQYG6B960F',\n",
       " 'A2TQYK6B991B',\n",
       " 'A2TQYL6B99F2',\n",
       " 'A2TQYM6B9AEF',\n",
       " 'A2TQYN6B9C78',\n",
       " 'A2TQYP6B9E9C',\n",
       " 'A2TQYT6BA2B7',\n",
       " 'A2TQYV6BA56B',\n",
       " 'A2TQYX6BA7DD',\n",
       " 'A2TQYZ6BAA71',\n",
       " 'A2TQZ36BABC2',\n",
       " 'A2TQZ46BAD24',\n",
       " 'A2TQZ76BB083',\n",
       " 'A2TQZ96BB2B9',\n",
       " 'A2TQZB6BB547',\n",
       " 'A2TQZC6BB6C7',\n",
       " 'A2TQZD6BB851',\n",
       " 'AYFPRD64CD4B',\n",
       " 'A2TQZF6BBA86',\n",
       " 'A2TQZJ6BBD6F',\n",
       " 'A2TQZM6BC0D9',\n",
       " 'A2TQZS6BC6DD',\n",
       " 'A2TQZT6BC7BC',\n",
       " 'A2TQZU6BC915',\n",
       " 'A2TQZV6BC9DE',\n",
       " 'A2TQZW6BCB05',\n",
       " 'A2TQZX6BCCE7',\n",
       " 'A2TR226BD037',\n",
       " 'A2TR246BD264',\n",
       " 'A2TR256BD33A',\n",
       " 'A2TR266BD467',\n",
       " 'A2TR276BD600',\n",
       " 'A2TR286BD6BD',\n",
       " 'A2TR296BD7E8',\n",
       " 'A2TR2A6BD950',\n",
       " 'AKBR2961FD87',\n",
       " 'A2TR2C6BDBFF',\n",
       " 'A2TR2E6BDE8A',\n",
       " 'A2TR2G6BE180',\n",
       " 'A2TR2J6BE2D6',\n",
       " 'A2TR2K6BE433',\n",
       " 'A2TR2N6BE80E',\n",
       " 'A2TR2P6BE8C9',\n",
       " 'A2TR2Q6BEA3A',\n",
       " 'A2TR2R6BEAEF',\n",
       " 'A2TR2S6BEBAD',\n",
       " 'A2TR2T6BECE6',\n",
       " 'A2TR2U6BEE22',\n",
       " 'A2TR2W6BF1AD',\n",
       " 'A2TR2Y6BF3DC',\n",
       " 'A2TR326BF5B4',\n",
       " 'A2TR336BF719',\n",
       " 'A2TR346BF8A5',\n",
       " 'A2TR356BF98F',\n",
       " 'A2TR3B6C00D7',\n",
       " 'A2TR3C6C025A',\n",
       " 'A2TR3G6C0686',\n",
       " 'AL5SDW723B46',\n",
       " 'A2TR3K6C0A39',\n",
       " 'A2TR3L6C0BB2',\n",
       " 'B8CE8770B247',\n",
       " 'A2TR3S6C11F4',\n",
       " 'A2TR3V6C1557',\n",
       " 'A2TR3Y6C1993',\n",
       " 'A2TR446C1D79',\n",
       " 'CCDNFP5FC028',\n",
       " 'A2TR496C235A',\n",
       " 'A2TR4A6C257C',\n",
       " 'A2TR4D6C27F1',\n",
       " 'A2TR4F6C2A6C',\n",
       " 'A2TR4G6C2BED',\n",
       " 'A2TR4H6C2DB5',\n",
       " 'A2TR4L6C3032',\n",
       " 'A2TR4M6C3227',\n",
       " 'A2TR4P6C33F9',\n",
       " 'A2TR4R6C364D',\n",
       " 'A2TR4S6C37FA',\n",
       " 'A2TR4U6C3A36',\n",
       " 'A2TR4W6C3BE1',\n",
       " 'A2TR4X6C3E04',\n",
       " 'A2TR4Z6C3F56',\n",
       " 'A2TR526C4074',\n",
       " 'A2TR536C4233',\n",
       " 'A2TR546C4330',\n",
       " 'A2TR566C4554',\n",
       " 'A2TR576C4631',\n",
       " 'A2TR586C4720',\n",
       " 'A2TR596C4820',\n",
       " 'A2TR5A6C4A1E',\n",
       " 'A2TR5C6C4CDC',\n",
       " 'A2TR5D6C4E2B',\n",
       " 'A2TR5G6C50F9',\n",
       " 'A2TR5H6C52BD',\n",
       " 'A2TR5J6C5390',\n",
       " 'A2TR5K6C5443',\n",
       " 'A2TR5L6C55ED',\n",
       " 'A2TR5M6C56B8',\n",
       " 'A2TR5N6C5817',\n",
       " 'A2TR5P6C59E5',\n",
       " 'A2TR5R6C5C99',\n",
       " 'A2TR5S6C5D7C',\n",
       " 'A2TR5T6C5E5D',\n",
       " 'A2TR5V6C6143',\n",
       " 'A2TR626C66BE',\n",
       " 'A2TR636C67A0',\n",
       " 'A2TR646C68AA',\n",
       " 'A2TR656C6990',\n",
       " 'A2TR666C6A6D',\n",
       " 'A2TR676C6B6E',\n",
       " 'A2TR6B6C70F4',\n",
       " 'A2TR6C6C7256',\n",
       " 'A2TR6D6C7300',\n",
       " 'A2TR6E6C7535',\n",
       " 'A2TR6G6C76E4',\n",
       " 'A2TR6J6C794E',\n",
       " 'A2TR6K6C7A2E',\n",
       " 'A2TR6L6C7AFB',\n",
       " 'A2TR6M6C7BDE',\n",
       " 'A2TR6N6C7CDA',\n",
       " 'A2TR6R6C8131',\n",
       " 'A2TR6S6C8270',\n",
       " 'A2TR6T6C833A',\n",
       " 'A2TR6U6C83F1',\n",
       " 'A2TR6V6C84D6',\n",
       " 'A2TR6W6C8582',\n",
       " 'A2TR6X6C8653',\n",
       " 'A2TR6Y6C896A',\n",
       " 'A2TR6Z6C8A38',\n",
       " 'A2TR726C8C9C',\n",
       " 'A2TR746C8EB4',\n",
       " 'A2TR776C9239',\n",
       " 'A2TR786C9374',\n",
       " 'A2TR796C94D1',\n",
       " 'A2TR7B6C96CB',\n",
       " 'AFPLH4567943',\n",
       " 'AFPQK669A2E3',\n",
       " 'AFPMC8598121',\n",
       " 'ABULBE55A2E4',\n",
       " 'ABYN455DE84F',\n",
       " 'A2TR7C6C97D2',\n",
       " 'A2TR7D6C995B',\n",
       " 'A2TR7F6C9B06',\n",
       " 'A2TR7G6C9C6A',\n",
       " 'A2TR7J6C9E55',\n",
       " 'A2TR7K6CA01F',\n",
       " 'A2TR7L6CA1B9',\n",
       " 'A2TR7P6CA50E',\n",
       " 'A2TR7Q6CA5D1',\n",
       " 'A2TR7S6CA7E1',\n",
       " 'A2TR7T6CA8A1',\n",
       " 'A2TR7U6CA96F',\n",
       " 'A2TR7V6CAB9F',\n",
       " 'A2TR7W6CAC56',\n",
       " 'A2TR856CB568',\n",
       " 'A2TR8E6CBF1E',\n",
       " 'A2TR8F6CC005',\n",
       " 'A2TR8G6CC0E4',\n",
       " 'A2TR8H6CC1AD',\n",
       " 'B9HR827A456D',\n",
       " 'A2TR8N6CC96E',\n",
       " 'A2TR8P6CCA44',\n",
       " 'A2TR8R6CCD10',\n",
       " 'A2TR8U6CCF89',\n",
       " 'A2TR8V6CD03C',\n",
       " 'A2TR8W6CD12E',\n",
       " 'A2TR8X6CD221',\n",
       " 'A2TR8Y6CD3CE',\n",
       " 'AL5SDX723B48',\n",
       " 'A2TR956CDAE6',\n",
       " 'A2TR966CDBA9',\n",
       " 'A2TR986CDDCD',\n",
       " 'AL5SDY723B49',\n",
       " 'A2TR996CDEC0',\n",
       " 'A2TR9A6CDFF8',\n",
       " 'A2TR9C6CE309',\n",
       " 'A2TR9E6CE555',\n",
       " 'A2TR9G6CE732',\n",
       " 'AKEGR6450441',\n",
       " 'A2TR9K6CEAB2',\n",
       " 'A2TR9L6CEC85',\n",
       " 'A2TR9M6CED6B',\n",
       " 'A2TR9R6CF177',\n",
       " 'A2TR9S6CF25E',\n",
       " 'A2TR9T6CF43D',\n",
       " 'A2TR9U6CF51C',\n",
       " 'A2TR9V6CF682',\n",
       " 'A2TR9W6CF817',\n",
       " 'A2TR9Y6CF9D0',\n",
       " 'A2TRA46CFF1A',\n",
       " 'A2TRA56D006D',\n",
       " 'A2TRA66D0125',\n",
       " 'A2TRA76D01D7',\n",
       " 'A2TRA86D028F',\n",
       " 'A2TRA96D03E0',\n",
       " 'A2TRAA6D05FC']"
      ]
     },
     "execution_count": 94,
     "metadata": {},
     "output_type": "execute_result"
    }
   ],
   "source": [
    "unique_values"
   ]
  },
  {
   "cell_type": "code",
   "execution_count": 142,
   "id": "6ba13259",
   "metadata": {},
   "outputs": [],
   "source": [
    "# Set up Chrome WebDriver\n",
    "driver = webdriver.Chrome()\n",
    "\n",
    "# URL of the website\n",
    "url = \"https://go.boarddocs.com/pa/dert/Board.nsf/Public\"\n",
    "\n",
    "# Open the website in the browser\n",
    "driver.get(url)\n",
    "element = driver.find_element(By.LINK_TEXT,\"POLICIES\")\n",
    "#element.click()\n",
    "driver.execute_script(\"arguments[0].click()\",element)"
   ]
  },
  {
   "cell_type": "code",
   "execution_count": 143,
   "id": "3c23a497",
   "metadata": {},
   "outputs": [
    {
     "name": "stdout",
     "output_type": "stream",
     "text": [
      "['A3JRF56010D9', '9WRSCP720FA8', 'A3JRF66010DA', '9WRSCT72143D', 'CJGJPQ4DCF61', 'C6MNW26111F0', 'BY4KDX516E1A', 'CJGGRG450F1D', 'C6F2KN5E4A00', 'CBJFF83EDF7C', 'AELNAN5EF756', '9WRSEM725870', 'CNLNL4606615', '9WRSEZ726639', 'AAUR5Z6C656B', '9WRSF6726CC9', 'BWEPQF658269', 'B93PLT57DD75', 'B64P22626733', 'B64P9F62F391', 'BT4M5Q582107', 'AXRRCY6B55F5', '9WRSFS728485', '9XEQL6576598', '9WRSFV7287A3', '9WRSFX728A44', 'B43M9L59E78A', '9WRSG3728E3E', '9WRSG5729052', 'BT4LUB56EE28', '9WRSG772929B', '9WRSGA729669', 'BUNL6N52F4ED', 'BUNL8V5398F9', 'A3JRFA6010DE', 'BUNL6Q52F4F1', '9WRSHM72C93B', 'A4JR4362C744', 'A3JRFB6010DF', '9WRSJ472DAFA', '9WRSJ772DDDC', 'CP9RCX6BA3BF', '9WRSJA72E148', '9WRSJB72E303', 'AR6QS8678EF7', 'BUNLNA55AC19', '9WRSJS72F3F2', 'BUNLRY572FD0', '9WRSK272FDD1', '9WRSK372FF94', '9WRSK573012B', 'A3JRFC6010E0', '9WRSK9730597', '9WRSKD730AEC', 'CR7SXW74E118', 'CR7T7375ED83', 'CPBNGG5F7C71', 'CPBNGR5F7C74', 'AXRRJV6BDEE5', 'B9NDQ34F82B6', '9WRSL573270D', 'BXDRJV6E4894', '9WRSL8732ADC', 'C6FKTM528853', 'BFBT3Y74413B', 'CNLPGP649602', 'BFEJWE4F0B23', 'CNLP72631297', 'BT4KJQ515156', '9WRSLX734584', 'CNLP76631AF5', '9WRSMN736004', '9WRSMQ736321', '9WRSMS7364DC', '9WRSMV736824', 'BFEKJ952096D', 'BT4KWX532812', '9WRSN5737149', 'AK2J644AA8F5', 'A4JR4462C746', 'A4TQ5M555043', 'B43MDY5AD033', 'A4U2HG6F5018', 'A3JRFF6010E3', '9WRSP2739431', '9WRSP8739A63', 'AAUR9Q6CF049', 'A4JR4562C747', 'CNLP7S63240F', 'CE2JCE4C85F2', 'C6F34N62D4C9', 'C42NHH5F8B72', 'BWDTXC79294D', '9WRSR973E6D4', 'CE2JCN4C8F20', 'CNLP7W632CCB', 'BN7JQP4DDFD5', '9WRSRS73FB18', '9WRSRU73FD67', '9WRSRW740022', '9WRSRY740195', 'CE2JCV4C9712', '9WRSSC741066', '9WRSSE7412D2', '9WRSSH741659', '9WRSSK7418C9', '9WRSSM741A6E', 'CNLP7Y63365C', '9WRST2742A18', '9WRSTC7435E2', '9Y2KER4D409C', 'CHRP9W630063', 'CE2JDD4CAA02', 'B43MKW5BAE63', '9WRSTM74401B', 'B43MQ65C4DE6', 'C42NJ45F8B7B', 'C6FLCA55E0D9', '9YTREX62DEA7', 'AM7GXQ45F820', 'CNLR5M6BF2C2', 'C42NJC5F8B7E', '9YTREY62DEA8', 'AUUV8E6764B3', '9YTRF262DEAC', '9YTRF362DEAD', '9YTRF462DEAE', '9YTRF562DEAF', '9YTRF662DEB0', 'AZJRMZ67F638', 'BSPEYF3CA798', 'B43MT25CBA7A', '9YTRFA62DEB4', '9YTRFB62DEB5', 'BT2N6Z59C68E', '9YTRFD62DEB7', '9YTRFE62DEB8', 'BANDXA37D935', 'BSPF353CC2E5', 'BT2NHN5BC49A', '9YTRFH62DEBB', '9YTRFJ62DEBC', '9YTRFK62DEBD', '9YTRFL62DEBE', 'BN7KBC50F782', '9YTRFN62DEC0', '9YTRFP62DEC1', '9YTRFQ62DEC2', '9YTRFR62DEC3', '9YTRFS62DEC4', '9YTRFT62DEC5', '9YTRFU62DEC6', 'BT3LSP56317F', 'BT3M2E582725', 'BHDGA842D388', 'BT3MDE588516', 'BNCEQA3B7D18', 'AELN5B5D42BE', '9YTRG362DECD', '9YTRG462DECE', '9YTRG562DECF', '9YTRG662DED0', '9YTRG762DED1', 'BT3MH6593837', '9YTRG962DED3', '9YTRGA62DED4', '9YTRGB62DED5', '9YTRGD62DED7', '9WRT6275C613', '9XEQL757659B', '9WRT6475C919', '9XEQL857659C', '9WRT6775CC98', '9WRT6C75D24F', '9WRT6E75D441', '9XEQL957659D', '9XEQLA57659E', 'ADJHAM47930D', 'AUWU5M7184B9', 'AUWUAK72EE53', '9XEQLB57659F', '9WRT6W75E6BA', '9WRT6X75E7AF', '9WRT6Y75E932', '9XEQLC5765A0', '9WRT7275EB6D', '9WRT7675F045', 'AEHLDV561C2D', '9WRT7875F299', '9XEQLE5765A2', '9WRT7B75F641', '9WRT7D75F830', '9WRT7F75FB6B', 'AAURRE6F3CEF', '9WRT7G75FCC1', 'ALAJ7H4B913A', '9XEQLF5765A3', '9WRT7J75FE74', '9XEQLG5765A4', 'BNCEQG3B8A44', 'A98GLQ42FFF9', 'CDKMHA5B4C6B', 'CDKMHF5B5214', 'CDKMHH5B54ED', 'CDKMHN5B5A13', 'CDKMHR5B5D88', 'CDKMHU5B61A2', 'CDKMHX5B6519', 'CDKMHZ5B67F5', 'CDKMJE5B6B9A', 'CDKMJF5B6FD9', 'CDKMJG5B731D', 'CDKMJH5B7755', 'CDKMJJ5B7BA6', 'CDKMJN5B802A', 'CDKMJV5B88A9', 'CDKMJZ5B8C63', 'CNWL8D550BB9', 'C2KMNM5C152B', '9WRT927636CC', '9WRT9L764B64', 'BT2MX4585993', 'A3JRFJ6010E6', 'CHRPA263094E', 'BHDHPN497B2F', 'CHRPAT63127F', 'B43NHV60127A', '9WRTAH766DB3', 'CHRPAV631AA5', 'B9NDQN4FDABA', 'CNLP8E635F9A', 'CQTG9L42B9A5', 'CQTG9S42C304', 'CQTG9Z42CAE2', 'CQTGA942D557', 'CQTGAK42E08A', '9XEQLQ5765AC', '9WRTB676860F', 'AD7J3Z4B4AF7', '9WRTC476A931', 'B43QXZ6B6B3B', '9WRTCF76B655', '9YTRGE62DED8', '9WRTCJ76B9BA', 'BT2MGW557827', 'AELN5V5D9690', 'CP9RM46DD0D0', 'CP9RMM6DFAA2', 'CRHGGC43B94F', 'CRFFV840DFE3', 'CP9RMX6E1C7F', 'BRPJZ84F913B', '9WRTCL76BC30', '9WRTCP76BFBC', 'C6F2XX620A3C', 'BT2L644FB934', 'BHUGZW464BEE', 'AXRU2K79F3FD', 'BT2KZH4F1002', '9WRTD676D204', '9WRTD976D505', '9WRTDC76D8FE', '9WRTDE76DAC9', '9WRTDG76DDCE', '9WRTDK76E0AA', 'CEXQYX668F78', 'B9NDQZ4FF0EA', '9WRTE676F6CC', 'AAV52K0E2424', 'CR7TRH78A0E7', '9WRTEK7706A3', '9XEQLT5765AF', 'CJ2L3F54082F', '9WRTEM770835']\n"
     ]
    }
   ],
   "source": [
    "soup = BeautifulSoup(driver.page_source, \"html.parser\")\n",
    "# Find all elements with href=\"#\"\n",
    "href_elements = soup.findChildren(attrs={'href': \"#\", 'unique': True})\n",
    "\n",
    "# Extract the values of the \"unique\" attribute from each href element\n",
    "unique_values = [element.get('unique') for element in href_elements]\n",
    "\n",
    "# Print the unique values\n",
    "print(unique_values)\n"
   ]
  },
  {
   "cell_type": "code",
   "execution_count": 144,
   "id": "a6ed0d31",
   "metadata": {},
   "outputs": [
    {
     "data": {
      "text/plain": [
       "'A3JRF56010D9'"
      ]
     },
     "execution_count": 144,
     "metadata": {},
     "output_type": "execute_result"
    }
   ],
   "source": [
    "unique_values[0]"
   ]
  },
  {
   "cell_type": "code",
   "execution_count": 145,
   "id": "4739d12c",
   "metadata": {},
   "outputs": [
    {
     "data": {
      "text/plain": [
       "'https://go.boarddocs.com/pa/dert/Board.nsf/goto?open&id=A3JRF56010D9'"
      ]
     },
     "execution_count": 145,
     "metadata": {},
     "output_type": "execute_result"
    }
   ],
   "source": [
    "url[:43]+\"goto?open&id=\"+unique_values[0]"
   ]
  },
  {
   "cell_type": "code",
   "execution_count": null,
   "id": "4373d557",
   "metadata": {},
   "outputs": [],
   "source": [
    "https://go.boarddocs.com/az/liberty25/Board.nsf/Public"
   ]
  },
  {
   "cell_type": "code",
   "execution_count": 147,
   "id": "7317e6b4",
   "metadata": {},
   "outputs": [],
   "source": [
    "# Set up Chrome WebDriver\n",
    "driver = webdriver.Chrome()\n",
    "\n",
    "# URL of the website\n",
    "url = \"https://go.boarddocs.com/az/liberty25/Board.nsf/Public\"\n",
    "\n",
    "# Open the website in the browser\n",
    "driver.get(url)\n",
    "element = driver.find_element(By.LINK_TEXT,\"MEETINGS\")\n",
    "#element.click()\n",
    "driver.execute_script(\"arguments[0].click()\",element)"
   ]
  },
  {
   "cell_type": "code",
   "execution_count": 148,
   "id": "efc8ae0f",
   "metadata": {},
   "outputs": [
    {
     "name": "stdout",
     "output_type": "stream",
     "text": [
      "['BRGVBG7FF1EB', 'BRGVAY7FDEC2', 'CMMAJD27E505', 'BRGVBT7FFF49', 'BRGVB37FE172', 'CRZ58W0EFFEC', 'CQEQS369A2D2', 'BY4TXV757FB7', 'CRZ58W0EFFEC', 'CRZ58W0EFFEC', 'CTGPZZ656FAB', 'CRZ57B0ED64E', 'CMSMZL5B4240', 'CSBUBU7A58F1', 'CMSMVF5B1ED4', 'CMSMRP5ACF72', 'CRGS9F718564', 'CQ4RRJ6F4000', 'CRP23D73C526', 'CRGS5Y710F29', 'CRJVAX7F7789', 'CR7TY86FC904', 'CRJV9Q7EC6A5', 'CMSMMS5AAE39', 'CQUQ8D680EB1', 'CQUQ9X684930', 'CRGN675B7502', 'CQ4RNN6E9338', 'CQNLKP56F713', 'CQYUKC7C6976', 'CQSTR2788E80', 'CRDW3U8384DF', 'CQ4RJJ6DA0FA', 'CQ4QJC697DA8', 'CQ4RLP6E291C', 'CQ4RJW6DC1E4', 'CMSMJG5A8A84', 'CQDNET5F6373', 'CMSMGB5A67E6', 'CNKNWF5F3017', 'CQ4N7R5E944B', 'CQ4MUQ5CC787', 'CQ4N4E5E1786', 'CQ4N5J5E4185', 'CPHM6Z592B1A', 'CPWUGS7C07FA', 'CPXRPT6BFE64', 'CMSMDM5A41A5', 'CNMVBD7FEE96', 'CPWVNS601005', 'CMSMAU5A114E', 'CNKSE3719CF3', 'CNMTQW788A35', 'CPGMFS5B09B3', 'CPJRNZ6CA59A', 'CPJRKP6C77A9', 'CNMU587A584E', 'CMS2G980CF29', 'CNMV3Z7EDAFE', 'CP3T7D75DB2C', 'CNUTVA78B48C', 'CNUU7C7A1D27', 'CMS2277B12AC', 'CNMVFB808220', 'CNNUJ57BF87F', 'CNL22Z00249E', 'CNMTNR78398C', 'CNDQL8660542', 'CNDQ2U64E238', 'CMPP8M6367BF', 'CMXW5F8167E2', 'CN8RH56E0682', 'CMPS5T710EF5', 'CF2T6D75D2FB', 'CMPPKW650EB7', 'CM2VLJ7DECA6', 'CMARP46EE034', 'CMAQEY69058B', 'CM2LTG580AF5', 'CLDP6Q632012', 'CF2SYC74F16E', 'CLTQD5672F2D', 'CLNKU8538708', 'CKZSC771F3CD', 'CF2SUF745EFF', 'CH6RAK69D7CA', 'CK6SMV736933', 'CH6R9L69A912', 'CL6UZG7DFF60', 'CKZSEW723B64', 'CF2SPQ73ABDD', 'CKJLGB564813', 'CKRPNP6576EC', 'CKU2AC0137DF', 'CK6SJH72E7BE', 'CK6SEP7242DA', 'CKHQWG6B4B32', 'CKRNP35E314A', 'CH6R2E692C5B', 'CK5USZ7CA40F', 'CKHVZB8325F6', 'CK6N7Z5D1DF2', 'CKDQZM6B90B2', 'CF2RLW6DCDB6', 'CK5UAB7B16FB', 'CK6SB871D92F', 'CJRPQM6470C6', 'CJX3BY062564', 'CJRVEC805C6D', 'CJRVAA7FC648', 'CJRQFM691548', 'CF2R3R6B7E3A', 'CF2Q8G6702D3', 'CH6PCB61FA68', 'CJANCF5A2A34', 'CJESQ973C237', 'CH6NYF6087FA', 'CJ9MPA5C10B3', 'CF2PPW62FBD4', 'CHUU8J7AD474', 'CE6MJN5A7E09', 'CHUTM477F80B', 'CF2PD562138E', 'CHEU9S7B01CA', 'CF2N6E5E64CD', 'CF2N5F5E1FDB', 'CGNQ6Y67C58F', 'CGPMHS5B5EEB', 'CF2MQR5C34BE', 'CGDRLA6E7CEE', 'CF2MBD5A619A', 'C8CPFE594681', 'CEKME559BBEE', 'C8CPD3592294', 'C8CPAV590042', 'C8CP5M588D56', 'CDFL4P54C1B3', 'CDQMWY5BF86E', 'C8CMQS571215', 'CCURQ66F0CEA', 'CDFUJA7C4231', 'CCURRJ6F1DDB', 'C8CMTH57281D', 'CCURPB6EEF2A', 'CBBTH3774403', 'CCYLTV582926', 'CCYLWC58867B', 'CCXRS66F4196', 'CCURDK6D80D2', 'C8CMM256F529', 'CBN2W6041F1D', 'C8CMDH56B55D', 'CCALPA576E0A', 'CCALMT5743F8', 'CBN2NQ0308D3', 'C8CM7G567026', 'CBN2JG02692D', 'CBN2AX014F18', 'CBN29S012310', 'C8CM4H565891', 'CBBS6B707D78', 'CB8UHJ7C263E', 'C8CLZP562DB1', 'CAYUGH7BFEED', 'CAYU5M7A0FD6', 'CAVUQH7D2BA7', 'CAP8Z520AE72', 'CAKMCA59A793', 'C8CLVZ55E1B5', 'C9STLR77EE0D', 'C9STJB779361', 'C9STJS779B3A', 'C9SSZK751EBA', 'C66TRY787100', 'C9KPHH64B1C5', 'C98TDV76ECE8', 'C98Q3U67646C', 'C9GKSB5336DB', 'C9FRA76A6E0E', 'C98Q8L680EB6', 'C66TPM77F8F9', 'C8TSME735181', 'C66TL5779574', 'C86RYV6FCC1F', 'C66TGF773E71', 'C7HM8T7A7FC3', 'C63UW77E0003', 'C3LSN8725F86', 'C73VBA7FEBB0', 'C3LSKC722090', 'C6G33804DB14', 'C6F4RK7CCF3C', 'C3LSHB72134A', 'C5SVB67FE68D', 'C3LSE971CC31', 'C5D5M710DF10', 'C5FHNY540A83', 'C5BLHN56AB03', 'C3LS7J7111CD', 'C4YKNP52B774', 'C4VNCX5E90E6', 'C3LSB771684B', 'C4F59U0F3568', 'BV2T3T744F5D', 'BV2T27743DA7', 'BV2SY5741F45', 'BV2SUW73EA88', 'C2PQJJ679025', 'BZSTK277ADB8', 'C2N5AE0F4A91', 'BZSTMP7811F2', 'BUV7V31AEA36', 'BUV7TJ1ADB97', 'BUV7RZ1AC69C', 'BUV7QG1AB9A1', 'BYH5950F1A25', 'BUV7G919860D', 'BUV7HT19B6CA', 'BXBMVU5D2246', 'BUV7KB19CC7E', 'BW856X0EC8D4', 'BUV7LV1A1DF8', 'BRYTL576F866', 'BRYTJL76EB02', 'BVK5VL121A61', 'BVBPTP64ECFA', 'BV8LJS55F4B8', 'BRYTH276DB7E', 'BUZMGY5B1181', 'BRYTFH76CB90', 'BRYTDY76BD07', 'BRYTAD766904', 'BRYTC6768AB9', 'BT2PQ260FCA8', 'BRKA7B263320', 'BSGR5B637B57', 'BRKA5Z26159C', 'BRKA3E25B490', 'CGYT8F75FD78', 'CGYT7V75E082', 'CGYT5L75B6B3', 'CGYS89716782', 'CGYS6W713709', 'CGYS5P7109FC', 'CGYRPW6EF019', 'CGYRP46ECE96', 'CGYRN56E7A93', 'CGYRM96E525C', 'CGYRFR6CA7E1', 'CGYRCQ6BDE4A', 'CGYRBK6BAD06', 'CGYRA66B8A82', 'CGYR996B66D1', 'CGYR8D6B39F1', 'CGYR466ADC03', 'CGYR5R6B005D', 'CGYR2Y6AAEFE', 'CGYSX974A47B', 'CGYSWL747394', 'CGYSVX745122', 'CGYSTJ742C98', 'CGYSMN736116', 'CGYPU3653BD6', 'CGYSG572704B', 'CGYQKV68A479', 'CGYQJJ686742', 'CGYQHC6830A8', 'CGYQG567FFA9', 'CGYQEJ67DEFA', 'CGYQCS67BA7D', 'CGYQ6V66F0F8', 'CGYQ5V66C510', 'CGYQ4N66953B', 'CGYPWP65A650', 'CGYPY465DE6B', 'CGYPUE6541A8', 'CGYPVJ657100', 'CGYPNQ64A3AC', 'CGYQXZ6A6FB7', 'CGYQU669F424', 'CGYQVQ6A3172', 'CGYQT669D2CC', 'CGYQS4699DC2', 'CGYQRH697E74', 'CGYQMZ68F5FE', 'CGYQLY68C2F4', 'CGKQWF6B36C4', 'CGKQW26B2B7C', 'CGKQAW685E11', 'CGKQB4686003', 'CGKQBA686252', 'CGKQAN685BE2', 'CGKQAG685849', 'CGJQJ7697E99', 'CGJP356248EE', 'CGJP2Q624406', 'CGJP2W6246BB', 'CGJP3D624B65', 'CGJNWJ617A6D', 'CGJNPF60A271', 'CGJNUL611E9F', 'CGJNJS5F699B', 'CGJNLW5FBAE5', 'CGJN3J5DF8BC', 'CGJNGM5F2A88', 'CGYPGF643E96', 'CGYPDU63CCAC', 'CGNPMN654859', 'CGNPMC654448', 'CGNPCL63F99E', 'CGNPCS63FB6D', 'CGNPCY63FD36', 'CGNPD663FED0', 'CGNPDC640055', 'CGNPDK6401ED', 'CGNPCE63F5BE', 'CGNN7T5E990E', 'CGKRW36FCEC0', 'CGKRSH6F6272', 'CGKRW96FD0D1', 'CGKRSP6F6432', 'CGKRSB6F5F90', 'CGKQW96B3416']\n"
     ]
    }
   ],
   "source": [
    "soup = BeautifulSoup(driver.page_source, \"html.parser\")\n",
    "# Find all elements with href=\"#\"\n",
    "href_elements = soup.findChildren(attrs={'href': \"#\", 'unique': True})\n",
    "\n",
    "# Extract the values of the \"unique\" attribute from each href element\n",
    "unique_values = [element.get('unique') for element in href_elements]\n",
    "\n",
    "# Print the unique values\n",
    "print(unique_values)\n"
   ]
  },
  {
   "cell_type": "code",
   "execution_count": 154,
   "id": "4f8d4e7e",
   "metadata": {},
   "outputs": [
    {
     "data": {
      "text/plain": [
       "'https://go.boarddocs.com/az/liberty25/Board.nsf/goto?open&id=BRGVBG7FF1EB'"
      ]
     },
     "execution_count": 154,
     "metadata": {},
     "output_type": "execute_result"
    }
   ],
   "source": [
    "url[:48]+\"goto?open&id=\"+unique_values[0]"
   ]
  },
  {
   "cell_type": "code",
   "execution_count": 150,
   "id": "4a9d6bc3",
   "metadata": {},
   "outputs": [
    {
     "data": {
      "text/plain": [
       "'https://go.boarddocs.com/az/liberty25/Board.nsf/Public'"
      ]
     },
     "execution_count": 150,
     "metadata": {},
     "output_type": "execute_result"
    }
   ],
   "source": [
    "url"
   ]
  },
  {
   "cell_type": "code",
   "execution_count": null,
   "id": "afabc70c",
   "metadata": {},
   "outputs": [],
   "source": []
  },
  {
   "cell_type": "code",
   "execution_count": 10,
   "id": "c92c8110",
   "metadata": {},
   "outputs": [],
   "source": [
    "# Set up Chrome WebDriver\n",
    "driver = webdriver.Chrome()\n",
    "\n",
    "# URL of the website\n",
    "url = \"https://go.boarddocs.com/az/liberty25/Board.nsf/Public\"\n",
    "\n",
    "# Open the website in the browser\n",
    "driver.get(url)\n",
    "element = driver.find_element(By.LINK_TEXT,\"MEETINGS\")\n",
    "#element.click()\n",
    "driver.execute_script(\"arguments[0].click()\",element)"
   ]
  },
  {
   "cell_type": "code",
   "execution_count": null,
   "id": "96c53a1c",
   "metadata": {},
   "outputs": [],
   "source": []
  }
 ],
 "metadata": {
  "kernelspec": {
   "display_name": "Python 3 (ipykernel)",
   "language": "python",
   "name": "python3"
  },
  "language_info": {
   "codemirror_mode": {
    "name": "ipython",
    "version": 3
   },
   "file_extension": ".py",
   "mimetype": "text/x-python",
   "name": "python",
   "nbconvert_exporter": "python",
   "pygments_lexer": "ipython3",
   "version": "3.10.5"
  }
 },
 "nbformat": 4,
 "nbformat_minor": 5
}
