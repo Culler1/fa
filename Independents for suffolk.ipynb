{
 "cells": [
  {
   "cell_type": "code",
   "execution_count": 1,
   "id": "065c891e",
   "metadata": {},
   "outputs": [
    {
     "name": "stderr",
     "output_type": "stream",
     "text": [
      "C:\\Users\\c_ull\\AppData\\Local\\Programs\\Python\\Python39\\lib\\site-packages\\geopandas\\_compat.py:111: UserWarning: The Shapely GEOS version (3.8.1-CAPI-1.13.3) is incompatible with the GEOS version PyGEOS was compiled with (3.10.1-CAPI-1.16.0). Conversions between both will be slow.\n",
      "  warnings.warn(\n"
     ]
    }
   ],
   "source": [
    "import pandas as pd\n",
    "import geopandas as gpd\n",
    "import matplotlib\n",
    "import matplotlib.pyplot as plt\n",
    "plt.style.use('ggplot')\n",
    "from matplotlib import colors\n",
    "import numpy as np\n",
    "from datetime import date\n",
    "%matplotlib inline\n",
    "from mpl_toolkits.axes_grid1 import make_axes_locatable\n",
    "import os, ssl\n",
    "import glob\n",
    "if (not os.environ.get('PYTHONHTTPSVERIFY', '') and\n",
    "getattr(ssl, '_create_unverified_context', None)):\n",
    "    ssl._create_default_https_context = ssl._create_unverified_context\n",
    "    \n"
   ]
  },
  {
   "cell_type": "code",
   "execution_count": 2,
   "id": "5be1c9f6",
   "metadata": {
    "scrolled": true
   },
   "outputs": [
    {
     "name": "stderr",
     "output_type": "stream",
     "text": [
      "C:\\Users\\c_ull\\AppData\\Local\\Programs\\Python\\Python39\\lib\\site-packages\\IPython\\core\\interactiveshell.py:3444: DtypeWarning: Columns (25) have mixed types.Specify dtype option on import or set low_memory=False.\n",
      "  exec(code_obj, self.user_global_ns, self.user_ns)\n"
     ]
    }
   ],
   "source": [
    "path=r'C://Users/c_ull/data-projects/elections-data-reforms/revamped_election_maps06222022/revamped_election_maps/'\n",
    "all_files = glob.glob(path+\"*_revamped.csv\")\n",
    "#cols=['registration_date','state_house','state_senate','us_congress','party_code']\n",
    "full_revamped=[]\n",
    "for file in all_files:\n",
    "    usecols=['id_number','last_vote_date','dob','party_code','registration_date','voter_status','county_1']\n",
    "    #usecols=['id_number','last_vote_date','dob','party_code','registration_date','voter_status','county_1',\n",
    "    #        'gen_prim_2020_vote_method',\"gen_prim_2020_party\",'gen_elect_2020_vote_method',\"gen_elect_2020_party\",\n",
    "    #        'muni_prim_2021_vote_method',\"muni_prim_2021_party\",'muni_elect_2021_vote_method',\"muni_elect_2021_party\",]\n",
    "    df = pd.read_csv(file,usecols=usecols)\n",
    "    #usecols=['id_number','first_name','last_name','middle_name','last_vote_date','dob','party_code','registration_date','voter_status','municipality','county_1',]\n",
    "    #df = df[['id_number','dob','registration_date','voter_status','party_code','county_1','municipality','gen_prim_2020_vote_method',\"gen_prim_2020_party\",'gen_elect_2020_vote_method',\"gen_elect_2020_party\",\n",
    "    #         'muni_prima_2021_vote_method',\"muni_prim_2021_party\",'muni_elect_2020_vote_method',\"muni_elect_2020_party\"]]\n",
    "    full_revamped.append(df)\n",
    "df2=pd.concat(full_revamped,sort=False)"
   ]
  },
  {
   "cell_type": "code",
   "execution_count": 3,
   "id": "52b773ad",
   "metadata": {},
   "outputs": [],
   "source": [
    "keys=[\"R\",'D']\n",
    "values=[\"R\",'D']\n",
    "party_dict=dict(zip(keys,values))"
   ]
  },
  {
   "cell_type": "code",
   "execution_count": 4,
   "id": "0c5d85fd",
   "metadata": {},
   "outputs": [],
   "source": [
    "df2['party1']=df2.party_code.map(party_dict).replace(np.nan,'Other')"
   ]
  },
  {
   "cell_type": "code",
   "execution_count": 5,
   "id": "bb3b921b",
   "metadata": {},
   "outputs": [],
   "source": [
    "c=['Blue','Red','Yellow']"
   ]
  },
  {
   "cell_type": "code",
   "execution_count": 6,
   "id": "ab15d81b",
   "metadata": {},
   "outputs": [
    {
     "name": "stdout",
     "output_type": "stream",
     "text": [
      "D        45.74\n",
      "R        39.53\n",
      "Other    14.73\n",
      "Name: party1, dtype: float64\n"
     ]
    },
    {
     "data": {
      "text/plain": [
       "<AxesSubplot:>"
      ]
     },
     "execution_count": 6,
     "metadata": {},
     "output_type": "execute_result"
    },
    {
     "data": {
      "image/png": "[encoded data removed]",
      "text/plain": [
       "<Figure size 432x288 with 1 Axes>"
      ]
     },
     "metadata": {
      "needs_background": "light"
     },
     "output_type": "display_data"
    }
   ],
   "source": [
    "print(((df2['party1'].value_counts()/df2.id_number.count())*100).round(2))\n",
    "((df2['party1'].value_counts()/df2.id_number.count())*100).round(2).plot(kind='bar',color=c)"
   ]
  },
  {
   "cell_type": "code",
   "execution_count": 7,
   "id": "177dc3c3",
   "metadata": {},
   "outputs": [],
   "source": [
    "df2['dob']=pd.to_datetime(df2.dob,errors=\"coerce\")\n",
    "df2['registration_date']=pd.to_datetime(df2.registration_date,errors=\"coerce\")\n",
    "df2['last_vote_date']=pd.to_datetime(df2.last_vote_date,errors=\"coerce\")"
   ]
  },
  {
   "cell_type": "code",
   "execution_count": 9,
   "id": "8012e0c2",
   "metadata": {},
   "outputs": [],
   "source": [
    "today=date.today()"
   ]
  },
  {
   "cell_type": "code",
   "execution_count": 10,
   "id": "05f55310",
   "metadata": {},
   "outputs": [],
   "source": [
    "df2['age']=((today-df2.dob.dt.date).dt.days)/365 #- ((today.month, today.day) < (df2.dob.dt.month, df2.dob.dt.day))"
   ]
  },
  {
   "cell_type": "code",
   "execution_count": 11,
   "id": "fb583f62",
   "metadata": {},
   "outputs": [
    {
     "data": {
      "text/html": [
       "<div>\n",
       "<style scoped>\n",
       "    .dataframe tbody tr th:only-of-type {\n",
       "        vertical-align: middle;\n",
       "    }\n",
       "\n",
       "    .dataframe tbody tr th {\n",
       "        vertical-align: top;\n",
       "    }\n",
       "\n",
       "    .dataframe thead th {\n",
       "        text-align: right;\n",
       "    }\n",
       "</style>\n",
       "<table border=\"1\" class=\"dataframe\">\n",
       "  <thead>\n",
       "    <tr style=\"text-align: right;\">\n",
       "      <th></th>\n",
       "      <th>id_number</th>\n",
       "      <th>dob</th>\n",
       "      <th>registration_date</th>\n",
       "      <th>voter_status</th>\n",
       "      <th>party_code</th>\n",
       "      <th>last_vote_date</th>\n",
       "      <th>county_1</th>\n",
       "      <th>party1</th>\n",
       "      <th>age</th>\n",
       "    </tr>\n",
       "  </thead>\n",
       "  <tbody>\n",
       "    <tr>\n",
       "      <th>0</th>\n",
       "      <td>001003958-01</td>\n",
       "      <td>1932-11-20</td>\n",
       "      <td>1955-01-01</td>\n",
       "      <td>A</td>\n",
       "      <td>R</td>\n",
       "      <td>2022-05-17</td>\n",
       "      <td>ADAMS</td>\n",
       "      <td>R</td>\n",
       "      <td>89.657534</td>\n",
       "    </tr>\n",
       "    <tr>\n",
       "      <th>1</th>\n",
       "      <td>001010053-01</td>\n",
       "      <td>1940-10-06</td>\n",
       "      <td>1965-01-01</td>\n",
       "      <td>A</td>\n",
       "      <td>R</td>\n",
       "      <td>2022-05-17</td>\n",
       "      <td>ADAMS</td>\n",
       "      <td>R</td>\n",
       "      <td>81.775342</td>\n",
       "    </tr>\n",
       "    <tr>\n",
       "      <th>2</th>\n",
       "      <td>001012944-01</td>\n",
       "      <td>1944-03-21</td>\n",
       "      <td>1968-01-01</td>\n",
       "      <td>A</td>\n",
       "      <td>R</td>\n",
       "      <td>2022-05-17</td>\n",
       "      <td>ADAMS</td>\n",
       "      <td>R</td>\n",
       "      <td>78.317808</td>\n",
       "    </tr>\n",
       "    <tr>\n",
       "      <th>3</th>\n",
       "      <td>001015834-01</td>\n",
       "      <td>1953-05-05</td>\n",
       "      <td>1975-01-01</td>\n",
       "      <td>A</td>\n",
       "      <td>R</td>\n",
       "      <td>2022-05-17</td>\n",
       "      <td>ADAMS</td>\n",
       "      <td>R</td>\n",
       "      <td>69.189041</td>\n",
       "    </tr>\n",
       "    <tr>\n",
       "      <th>4</th>\n",
       "      <td>001015914-01</td>\n",
       "      <td>1951-04-14</td>\n",
       "      <td>1975-01-01</td>\n",
       "      <td>A</td>\n",
       "      <td>D</td>\n",
       "      <td>2022-05-17</td>\n",
       "      <td>ADAMS</td>\n",
       "      <td>D</td>\n",
       "      <td>71.249315</td>\n",
       "    </tr>\n",
       "    <tr>\n",
       "      <th>...</th>\n",
       "      <td>...</td>\n",
       "      <td>...</td>\n",
       "      <td>...</td>\n",
       "      <td>...</td>\n",
       "      <td>...</td>\n",
       "      <td>...</td>\n",
       "      <td>...</td>\n",
       "      <td>...</td>\n",
       "      <td>...</td>\n",
       "    </tr>\n",
       "    <tr>\n",
       "      <th>307116</th>\n",
       "      <td>112221319-67</td>\n",
       "      <td>1993-05-23</td>\n",
       "      <td>2022-06-17</td>\n",
       "      <td>A</td>\n",
       "      <td>NF</td>\n",
       "      <td>NaT</td>\n",
       "      <td>YORK</td>\n",
       "      <td>Other</td>\n",
       "      <td>29.112329</td>\n",
       "    </tr>\n",
       "    <tr>\n",
       "      <th>307117</th>\n",
       "      <td>112221321-67</td>\n",
       "      <td>2004-04-16</td>\n",
       "      <td>2022-06-17</td>\n",
       "      <td>A</td>\n",
       "      <td>R</td>\n",
       "      <td>NaT</td>\n",
       "      <td>YORK</td>\n",
       "      <td>R</td>\n",
       "      <td>18.205479</td>\n",
       "    </tr>\n",
       "    <tr>\n",
       "      <th>307118</th>\n",
       "      <td>112221330-67</td>\n",
       "      <td>1979-03-14</td>\n",
       "      <td>2022-06-17</td>\n",
       "      <td>A</td>\n",
       "      <td>D</td>\n",
       "      <td>NaT</td>\n",
       "      <td>YORK</td>\n",
       "      <td>D</td>\n",
       "      <td>43.315068</td>\n",
       "    </tr>\n",
       "    <tr>\n",
       "      <th>307119</th>\n",
       "      <td>112221331-67</td>\n",
       "      <td>1999-12-06</td>\n",
       "      <td>2022-06-17</td>\n",
       "      <td>A</td>\n",
       "      <td>R</td>\n",
       "      <td>NaT</td>\n",
       "      <td>YORK</td>\n",
       "      <td>R</td>\n",
       "      <td>22.569863</td>\n",
       "    </tr>\n",
       "    <tr>\n",
       "      <th>307120</th>\n",
       "      <td>112221338-67</td>\n",
       "      <td>2004-02-05</td>\n",
       "      <td>2022-06-17</td>\n",
       "      <td>A</td>\n",
       "      <td>NF</td>\n",
       "      <td>NaT</td>\n",
       "      <td>YORK</td>\n",
       "      <td>Other</td>\n",
       "      <td>18.400000</td>\n",
       "    </tr>\n",
       "  </tbody>\n",
       "</table>\n",
       "<p>8742926 rows × 9 columns</p>\n",
       "</div>"
      ],
      "text/plain": [
       "           id_number        dob registration_date voter_status party_code  \\\n",
       "0       001003958-01 1932-11-20        1955-01-01            A          R   \n",
       "1       001010053-01 1940-10-06        1965-01-01            A          R   \n",
       "2       001012944-01 1944-03-21        1968-01-01            A          R   \n",
       "3       001015834-01 1953-05-05        1975-01-01            A          R   \n",
       "4       001015914-01 1951-04-14        1975-01-01            A          D   \n",
       "...              ...        ...               ...          ...        ...   \n",
       "307116  112221319-67 1993-05-23        2022-06-17            A         NF   \n",
       "307117  112221321-67 2004-04-16        2022-06-17            A          R   \n",
       "307118  112221330-67 1979-03-14        2022-06-17            A          D   \n",
       "307119  112221331-67 1999-12-06        2022-06-17            A          R   \n",
       "307120  112221338-67 2004-02-05        2022-06-17            A         NF   \n",
       "\n",
       "       last_vote_date county_1 party1        age  \n",
       "0          2022-05-17    ADAMS      R  89.657534  \n",
       "1          2022-05-17    ADAMS      R  81.775342  \n",
       "2          2022-05-17    ADAMS      R  78.317808  \n",
       "3          2022-05-17    ADAMS      R  69.189041  \n",
       "4          2022-05-17    ADAMS      D  71.249315  \n",
       "...               ...      ...    ...        ...  \n",
       "307116            NaT     YORK  Other  29.112329  \n",
       "307117            NaT     YORK      R  18.205479  \n",
       "307118            NaT     YORK      D  43.315068  \n",
       "307119            NaT     YORK      R  22.569863  \n",
       "307120            NaT     YORK  Other  18.400000  \n",
       "\n",
       "[8742926 rows x 9 columns]"
      ]
     },
     "execution_count": 11,
     "metadata": {},
     "output_type": "execute_result"
    }
   ],
   "source": [
    "df2"
   ]
  },
  {
   "cell_type": "code",
   "execution_count": 103,
   "id": "ec8ea76e",
   "metadata": {},
   "outputs": [],
   "source": [
    "#df2['age']=df2.age.astype(str).str.replace(\" days\",'').str.strip().astype(float)\n",
    "df2['age']=df2.age/365"
   ]
  },
  {
   "cell_type": "code",
   "execution_count": 104,
   "id": "a8864472",
   "metadata": {},
   "outputs": [],
   "source": [
    "def get_num_people_by_age_category(df):\n",
    "    df2[\"age_group\"] = pd.cut(x=df2['age'], bins=[18,25,35,45,55,65,75,100], labels=[\"18-24\",\"25-34\",\"35-44\",\"45-54\",\"55-64\",\"65-74\",\"75+\"])\n",
    "    return df2"
   ]
  },
  {
   "cell_type": "code",
   "execution_count": 12,
   "id": "7a9e83e6",
   "metadata": {},
   "outputs": [],
   "source": [
    "df2['age_group']=pd.cut(x=df2['age'], bins=[18,25,35,45,55,65,75,100], labels=[\"18-24\",\"25-34\",\"35-44\",\"45-54\",\"55-64\",\"65-74\",\"75+\"])"
   ]
  },
  {
   "cell_type": "code",
   "execution_count": 16,
   "id": "a70e3c2e",
   "metadata": {},
   "outputs": [
    {
     "name": "stdout",
     "output_type": "stream",
     "text": [
      "18-24     8.00\n",
      "25-34    16.93\n",
      "35-44    15.91\n",
      "45-54    15.21\n",
      "55-64    17.81\n",
      "65-74    15.14\n",
      "75+      10.92\n",
      "Name: age_group, dtype: float64\n"
     ]
    },
    {
     "data": {
      "text/plain": [
       "<AxesSubplot:>"
      ]
     },
     "execution_count": 16,
     "metadata": {},
     "output_type": "execute_result"
    },
    {
     "data": {
      "image/png": "[encoded data removed]",
      "text/plain": [
       "<Figure size 432x288 with 1 Axes>"
      ]
     },
     "metadata": {
      "needs_background": "light"
     },
     "output_type": "display_data"
    }
   ],
   "source": [
    "print(((df2['age_group'].value_counts()/df2.id_number.count())*100).round(2).sort_index())\n",
    "((df2['age_group'].value_counts()/df2.id_number.count())*100).round(2).sort_index().plot(kind='bar')"
   ]
  },
  {
   "cell_type": "code",
   "execution_count": 15,
   "id": "fb7bad78",
   "metadata": {},
   "outputs": [
    {
     "name": "stdout",
     "output_type": "stream",
     "text": [
      "25-34    310292\n",
      "35-44    270123\n",
      "45-54    204159\n",
      "55-64    174005\n",
      "18-24    144132\n",
      "65-74    121340\n",
      "75+       63279\n",
      "Name: age_group, dtype: int64\n"
     ]
    },
    {
     "data": {
      "text/plain": [
       "<AxesSubplot:>"
      ]
     },
     "execution_count": 15,
     "metadata": {},
     "output_type": "execute_result"
    },
    {
     "data": {
      "image/png": "[encoded data removed]",
      "text/plain": [
       "<Figure size 432x288 with 1 Axes>"
      ]
     },
     "metadata": {
      "needs_background": "light"
     },
     "output_type": "display_data"
    }
   ],
   "source": [
    "print(df2[df2.party1=='Other'].age_group.value_counts())\n",
    "((df2[df2.party1=='Other']['age_group'].value_counts()/df2[df2.party1=='Other'].id_number.count())*100).round(2).sort_index().plot(kind='bar')"
   ]
  },
  {
   "cell_type": "code",
   "execution_count": 35,
   "id": "ea0c4f18",
   "metadata": {},
   "outputs": [
    {
     "data": {
      "text/plain": [
       "<AxesSubplot:>"
      ]
     },
     "execution_count": 35,
     "metadata": {},
     "output_type": "execute_result"
    },
    {
     "data": {
      "image/png": "[encoded data removed]",
      "text/plain": [
       "<Figure size 432x288 with 1 Axes>"
      ]
     },
     "metadata": {
      "needs_background": "light"
     },
     "output_type": "display_data"
    }
   ],
   "source": [
    "((df2[df2.party1=='Other']['age_group'].value_counts()/df2.id_number.count())*100).round(2).sort_index().plot(kind='bar')"
   ]
  },
  {
   "cell_type": "code",
   "execution_count": 46,
   "id": "dc34b77b",
   "metadata": {},
   "outputs": [
    {
     "name": "stdout",
     "output_type": "stream",
     "text": [
      "18-24    21.0\n",
      "25-34    21.0\n",
      "35-44    19.0\n",
      "45-54    15.0\n",
      "55-64    11.0\n",
      "65-74     9.0\n",
      "75+       7.0\n",
      "Name: age_group, dtype: float64\n"
     ]
    },
    {
     "data": {
      "text/plain": [
       "<AxesSubplot:>"
      ]
     },
     "execution_count": 46,
     "metadata": {},
     "output_type": "execute_result"
    },
    {
     "data": {
      "image/png": "[encoded data removed]",
      "text/plain": [
       "<Figure size 432x288 with 1 Axes>"
      ]
     },
     "metadata": {
      "needs_background": "light"
     },
     "output_type": "display_data"
    }
   ],
   "source": [
    "print(((df2[df2.party1=='Other']['age_group'].value_counts()/df2.age_group.value_counts()*100)).round().sort_index())\n",
    "((df2[df2.party1=='Other']['age_group'].value_counts()/df2.age_group.value_counts()*100)).round().sort_index().plot(kind='bar',color='green')"
   ]
  },
  {
   "cell_type": "code",
   "execution_count": 43,
   "id": "06987c57",
   "metadata": {},
   "outputs": [
    {
     "name": "stdout",
     "output_type": "stream",
     "text": [
      "18-24    46.0\n",
      "25-34    49.0\n",
      "35-44    47.0\n",
      "45-54    42.0\n",
      "55-64    43.0\n",
      "65-74    48.0\n",
      "75+      47.0\n",
      "Name: age_group, dtype: float64\n"
     ]
    },
    {
     "data": {
      "text/plain": [
       "<AxesSubplot:>"
      ]
     },
     "execution_count": 43,
     "metadata": {},
     "output_type": "execute_result"
    },
    {
     "data": {
      "image/png": "[encoded data removed]",
      "text/plain": [
       "<Figure size 432x288 with 1 Axes>"
      ]
     },
     "metadata": {
      "needs_background": "light"
     },
     "output_type": "display_data"
    }
   ],
   "source": [
    "print(((df2[df2.party1=='D']['age_group'].value_counts()/df2.age_group.value_counts()*100)).round().sort_index())\n",
    "((df2[df2.party1=='D']['age_group'].value_counts()/df2.age_group.value_counts()*100)).round().sort_index().plot(kind='bar',color='blue')"
   ]
  },
  {
   "cell_type": "code",
   "execution_count": 45,
   "id": "3d971c82",
   "metadata": {},
   "outputs": [
    {
     "name": "stdout",
     "output_type": "stream",
     "text": [
      "18-24    33.0\n",
      "25-34    30.0\n",
      "35-44    34.0\n",
      "45-54    42.0\n",
      "55-64    46.0\n",
      "65-74    43.0\n",
      "75+      47.0\n",
      "Name: age_group, dtype: float64\n"
     ]
    },
    {
     "data": {
      "text/plain": [
       "<AxesSubplot:>"
      ]
     },
     "execution_count": 45,
     "metadata": {},
     "output_type": "execute_result"
    },
    {
     "data": {
      "image/png": "[encoded data removed]",
      "text/plain": [
       "<Figure size 432x288 with 1 Axes>"
      ]
     },
     "metadata": {
      "needs_background": "light"
     },
     "output_type": "display_data"
    }
   ],
   "source": [
    "print(((df2[df2.party1=='R']['age_group'].value_counts()/df2.age_group.value_counts()*100)).round().sort_index())\n",
    "((df2[df2.party1=='R']['age_group'].value_counts()/df2.age_group.value_counts()*100)).round().sort_index().plot(kind='bar',color='red')"
   ]
  },
  {
   "cell_type": "code",
   "execution_count": 26,
   "id": "14525878",
   "metadata": {},
   "outputs": [
    {
     "data": {
      "text/plain": [
       "0.20598525124335448"
      ]
     },
     "execution_count": 26,
     "metadata": {},
     "output_type": "execute_result"
    }
   ],
   "source": [
    "144132/699720"
   ]
  },
  {
   "cell_type": "code",
   "execution_count": null,
   "id": "d4933399",
   "metadata": {},
   "outputs": [],
   "source": []
  }
 ],
 "metadata": {
  "kernelspec": {
   "display_name": "Python 3 (ipykernel)",
   "language": "python",
   "name": "python3"
  },
  "language_info": {
   "codemirror_mode": {
    "name": "ipython",
    "version": 3
   },
   "file_extension": ".py",
   "mimetype": "text/x-python",
   "name": "python",
   "nbconvert_exporter": "python",
   "pygments_lexer": "ipython3",
   "version": "3.9.7"
  }
 },
 "nbformat": 4,
 "nbformat_minor": 5
}
