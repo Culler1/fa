{
 "cells": [
  {
   "cell_type": "code",
   "execution_count": 1,
   "id": "30a26c6f",
   "metadata": {},
   "outputs": [],
   "source": [
    "import pandas as pd"
   ]
  },
  {
   "cell_type": "code",
   "execution_count": 2,
   "id": "4425091f",
   "metadata": {},
   "outputs": [],
   "source": [
    "a1 = pd.read_excel(\"2024-district-level-state-va.xlsx\")"
   ]
  },
  {
   "cell_type": "code",
   "execution_count": 3,
   "id": "88f9495d",
   "metadata": {},
   "outputs": [],
   "source": [
    "#a1['District Name'] = a1['District Name'].str.replace(\"School District\",'SD')"
   ]
  },
  {
   "cell_type": "code",
   "execution_count": 4,
   "id": "7fb78b22",
   "metadata": {},
   "outputs": [],
   "source": [
    "b1 = pd.read_csv(\"economically disatvantaged students Bucks - Sheet1.csv\")"
   ]
  },
  {
   "cell_type": "code",
   "execution_count": 5,
   "id": "69a2a58e",
   "metadata": {},
   "outputs": [
    {
     "data": {
      "text/html": [
       "<div>\n",
       "<style scoped>\n",
       "    .dataframe tbody tr th:only-of-type {\n",
       "        vertical-align: middle;\n",
       "    }\n",
       "\n",
       "    .dataframe tbody tr th {\n",
       "        vertical-align: top;\n",
       "    }\n",
       "\n",
       "    .dataframe thead th {\n",
       "        text-align: right;\n",
       "    }\n",
       "</style>\n",
       "<table border=\"1\" class=\"dataframe\">\n",
       "  <thead>\n",
       "    <tr style=\"text-align: right;\">\n",
       "      <th></th>\n",
       "      <th>School District</th>\n",
       "      <th>PercentofEnrollemntED</th>\n",
       "    </tr>\n",
       "  </thead>\n",
       "  <tbody>\n",
       "    <tr>\n",
       "      <th>1</th>\n",
       "      <td>Bristol Boro School District</td>\n",
       "      <td>75.6</td>\n",
       "    </tr>\n",
       "    <tr>\n",
       "      <th>6</th>\n",
       "      <td>Morrisville Boro School District</td>\n",
       "      <td>91.6</td>\n",
       "    </tr>\n",
       "  </tbody>\n",
       "</table>\n",
       "</div>"
      ],
      "text/plain": [
       "                    School District  PercentofEnrollemntED\n",
       "1      Bristol Boro School District                   75.6\n",
       "6  Morrisville Boro School District                   91.6"
      ]
     },
     "execution_count": 5,
     "metadata": {},
     "output_type": "execute_result"
    }
   ],
   "source": [
    "b1[~b1[\"School District\"].isin(a1['District Name'])]"
   ]
  },
  {
   "cell_type": "code",
   "execution_count": 6,
   "id": "a212b65f",
   "metadata": {},
   "outputs": [],
   "source": [
    "b1['School District'] = b1['School District'].str.replace(\"Boro\", \"Borough\")"
   ]
  },
  {
   "cell_type": "code",
   "execution_count": 7,
   "id": "3e404b5f",
   "metadata": {},
   "outputs": [
    {
     "data": {
      "text/plain": [
       "Bensalem Township School District       17\n",
       "Bristol Borough School District         17\n",
       "Bristol Township School District        17\n",
       "Centennial School District              17\n",
       "Central Bucks School District           17\n",
       "Council Rock School District            17\n",
       "Morrisville Borough School District     17\n",
       "Neshaminy School District               17\n",
       "New Hope-Solebury School District       17\n",
       "Palisades School District               17\n",
       "Pennridge School District               17\n",
       "Pennsbury School District               17\n",
       "Quakertown Community School District    17\n",
       "Name: District Name, dtype: int64"
      ]
     },
     "execution_count": 7,
     "metadata": {},
     "output_type": "execute_result"
    }
   ],
   "source": [
    "a1[a1['District Name'].isin(b1['School District'])]['District Name'].value_counts()"
   ]
  },
  {
   "cell_type": "code",
   "execution_count": 8,
   "id": "dc12818f",
   "metadata": {},
   "outputs": [
    {
     "data": {
      "text/html": [
       "<div>\n",
       "<style scoped>\n",
       "    .dataframe tbody tr th:only-of-type {\n",
       "        vertical-align: middle;\n",
       "    }\n",
       "\n",
       "    .dataframe tbody tr th {\n",
       "        vertical-align: top;\n",
       "    }\n",
       "\n",
       "    .dataframe thead th {\n",
       "        text-align: right;\n",
       "    }\n",
       "</style>\n",
       "<table border=\"1\" class=\"dataframe\">\n",
       "  <thead>\n",
       "    <tr style=\"text-align: right;\">\n",
       "      <th></th>\n",
       "      <th>School District</th>\n",
       "      <th>PercentofEnrollemntED</th>\n",
       "    </tr>\n",
       "  </thead>\n",
       "  <tbody>\n",
       "    <tr>\n",
       "      <th>0</th>\n",
       "      <td>Bensalem Township School District</td>\n",
       "      <td>58.4</td>\n",
       "    </tr>\n",
       "    <tr>\n",
       "      <th>1</th>\n",
       "      <td>Bristol Borough School District</td>\n",
       "      <td>75.6</td>\n",
       "    </tr>\n",
       "    <tr>\n",
       "      <th>2</th>\n",
       "      <td>Bristol Township School District</td>\n",
       "      <td>64.7</td>\n",
       "    </tr>\n",
       "    <tr>\n",
       "      <th>3</th>\n",
       "      <td>Centennial School District</td>\n",
       "      <td>50.7</td>\n",
       "    </tr>\n",
       "    <tr>\n",
       "      <th>4</th>\n",
       "      <td>Central Bucks School District</td>\n",
       "      <td>13.4</td>\n",
       "    </tr>\n",
       "    <tr>\n",
       "      <th>5</th>\n",
       "      <td>Council Rock School District</td>\n",
       "      <td>15.4</td>\n",
       "    </tr>\n",
       "    <tr>\n",
       "      <th>6</th>\n",
       "      <td>Morrisville Borough School District</td>\n",
       "      <td>91.6</td>\n",
       "    </tr>\n",
       "    <tr>\n",
       "      <th>7</th>\n",
       "      <td>Neshaminy School District</td>\n",
       "      <td>38.0</td>\n",
       "    </tr>\n",
       "    <tr>\n",
       "      <th>8</th>\n",
       "      <td>New Hope-Solebury School District</td>\n",
       "      <td>14.2</td>\n",
       "    </tr>\n",
       "    <tr>\n",
       "      <th>9</th>\n",
       "      <td>Palisades School District</td>\n",
       "      <td>31.1</td>\n",
       "    </tr>\n",
       "    <tr>\n",
       "      <th>10</th>\n",
       "      <td>Pennridge School District</td>\n",
       "      <td>26.0</td>\n",
       "    </tr>\n",
       "    <tr>\n",
       "      <th>11</th>\n",
       "      <td>Pennsbury School District</td>\n",
       "      <td>31.4</td>\n",
       "    </tr>\n",
       "    <tr>\n",
       "      <th>12</th>\n",
       "      <td>Quakertown Community School District</td>\n",
       "      <td>40.0</td>\n",
       "    </tr>\n",
       "  </tbody>\n",
       "</table>\n",
       "</div>"
      ],
      "text/plain": [
       "                         School District  PercentofEnrollemntED\n",
       "0      Bensalem Township School District                   58.4\n",
       "1        Bristol Borough School District                   75.6\n",
       "2       Bristol Township School District                   64.7\n",
       "3             Centennial School District                   50.7\n",
       "4          Central Bucks School District                   13.4\n",
       "5           Council Rock School District                   15.4\n",
       "6    Morrisville Borough School District                   91.6\n",
       "7              Neshaminy School District                   38.0\n",
       "8      New Hope-Solebury School District                   14.2\n",
       "9              Palisades School District                   31.1\n",
       "10             Pennridge School District                   26.0\n",
       "11             Pennsbury School District                   31.4\n",
       "12  Quakertown Community School District                   40.0"
      ]
     },
     "execution_count": 8,
     "metadata": {},
     "output_type": "execute_result"
    }
   ],
   "source": [
    "b1"
   ]
  },
  {
   "cell_type": "code",
   "execution_count": 9,
   "id": "d673bc2b",
   "metadata": {},
   "outputs": [],
   "source": [
    "c1 = pd.read_excel(\"2024-pssa-district-data.xlsx\", skiprows=4)"
   ]
  },
  {
   "cell_type": "code",
   "execution_count": 10,
   "id": "1d0bd56e",
   "metadata": {},
   "outputs": [],
   "source": [
    "c1 = c1[c1.County==\"BUCKS\"]"
   ]
  },
  {
   "cell_type": "code",
   "execution_count": 11,
   "id": "c236f9e3",
   "metadata": {},
   "outputs": [
    {
     "data": {
      "text/plain": [
       "English Language Arts    1055\n",
       "Math                     1055\n",
       "Science                   457\n",
       "Name: Subject, dtype: int64"
      ]
     },
     "execution_count": 11,
     "metadata": {},
     "output_type": "execute_result"
    }
   ],
   "source": [
    "c1.Subject.value_counts()"
   ]
  },
  {
   "cell_type": "code",
   "execution_count": 12,
   "id": "8daf9f60",
   "metadata": {},
   "outputs": [
    {
     "data": {
      "text/plain": [
       "All Students                                     221\n",
       "Male                                             221\n",
       "Female                                           221\n",
       "White (not Hispanic)                             221\n",
       "Hispanic (any race)                              221\n",
       "IEP                                              221\n",
       "Economically Disadvantaged                       221\n",
       "Multi-ethnic (not Hispanic)                      219\n",
       "ELL                                              209\n",
       "Black or African American (not Hispanic)         208\n",
       "Asian (not Hispanic)                             203\n",
       "American Indian/Alaskan Native (not Hispanic)    113\n",
       "Native Hawaiian or other Pacific Islander         68\n",
       "Name: Group, dtype: int64"
      ]
     },
     "execution_count": 12,
     "metadata": {},
     "output_type": "execute_result"
    }
   ],
   "source": [
    "c1.Group.value_counts()"
   ]
  },
  {
   "cell_type": "code",
   "execution_count": 13,
   "id": "d1f5b60a",
   "metadata": {},
   "outputs": [],
   "source": [
    "c2 = c1[(c1['Group'].str.contains(\"All Students|Econom\"))&(c1.Grade=='Total')]"
   ]
  },
  {
   "cell_type": "code",
   "execution_count": 14,
   "id": "c46440c3",
   "metadata": {},
   "outputs": [],
   "source": [
    "b1.rename(columns={'School District':'District Name'},inplace=True)"
   ]
  },
  {
   "cell_type": "code",
   "execution_count": 15,
   "id": "6f8e382f",
   "metadata": {},
   "outputs": [
    {
     "data": {
      "text/html": [
       "<div>\n",
       "<style scoped>\n",
       "    .dataframe tbody tr th:only-of-type {\n",
       "        vertical-align: middle;\n",
       "    }\n",
       "\n",
       "    .dataframe tbody tr th {\n",
       "        vertical-align: top;\n",
       "    }\n",
       "\n",
       "    .dataframe thead th {\n",
       "        text-align: right;\n",
       "    }\n",
       "</style>\n",
       "<table border=\"1\" class=\"dataframe\">\n",
       "  <thead>\n",
       "    <tr style=\"text-align: right;\">\n",
       "      <th></th>\n",
       "      <th>District Name</th>\n",
       "      <th>PercentofEnrollemntED</th>\n",
       "    </tr>\n",
       "  </thead>\n",
       "  <tbody>\n",
       "    <tr>\n",
       "      <th>0</th>\n",
       "      <td>Bensalem Township School District</td>\n",
       "      <td>58.4</td>\n",
       "    </tr>\n",
       "    <tr>\n",
       "      <th>1</th>\n",
       "      <td>Bristol Borough School District</td>\n",
       "      <td>75.6</td>\n",
       "    </tr>\n",
       "    <tr>\n",
       "      <th>2</th>\n",
       "      <td>Bristol Township School District</td>\n",
       "      <td>64.7</td>\n",
       "    </tr>\n",
       "    <tr>\n",
       "      <th>3</th>\n",
       "      <td>Centennial School District</td>\n",
       "      <td>50.7</td>\n",
       "    </tr>\n",
       "    <tr>\n",
       "      <th>4</th>\n",
       "      <td>Central Bucks School District</td>\n",
       "      <td>13.4</td>\n",
       "    </tr>\n",
       "    <tr>\n",
       "      <th>5</th>\n",
       "      <td>Council Rock School District</td>\n",
       "      <td>15.4</td>\n",
       "    </tr>\n",
       "    <tr>\n",
       "      <th>6</th>\n",
       "      <td>Morrisville Borough School District</td>\n",
       "      <td>91.6</td>\n",
       "    </tr>\n",
       "    <tr>\n",
       "      <th>7</th>\n",
       "      <td>Neshaminy School District</td>\n",
       "      <td>38.0</td>\n",
       "    </tr>\n",
       "    <tr>\n",
       "      <th>8</th>\n",
       "      <td>New Hope-Solebury School District</td>\n",
       "      <td>14.2</td>\n",
       "    </tr>\n",
       "    <tr>\n",
       "      <th>9</th>\n",
       "      <td>Palisades School District</td>\n",
       "      <td>31.1</td>\n",
       "    </tr>\n",
       "    <tr>\n",
       "      <th>10</th>\n",
       "      <td>Pennridge School District</td>\n",
       "      <td>26.0</td>\n",
       "    </tr>\n",
       "    <tr>\n",
       "      <th>11</th>\n",
       "      <td>Pennsbury School District</td>\n",
       "      <td>31.4</td>\n",
       "    </tr>\n",
       "    <tr>\n",
       "      <th>12</th>\n",
       "      <td>Quakertown Community School District</td>\n",
       "      <td>40.0</td>\n",
       "    </tr>\n",
       "  </tbody>\n",
       "</table>\n",
       "</div>"
      ],
      "text/plain": [
       "                           District Name  PercentofEnrollemntED\n",
       "0      Bensalem Township School District                   58.4\n",
       "1        Bristol Borough School District                   75.6\n",
       "2       Bristol Township School District                   64.7\n",
       "3             Centennial School District                   50.7\n",
       "4          Central Bucks School District                   13.4\n",
       "5           Council Rock School District                   15.4\n",
       "6    Morrisville Borough School District                   91.6\n",
       "7              Neshaminy School District                   38.0\n",
       "8      New Hope-Solebury School District                   14.2\n",
       "9              Palisades School District                   31.1\n",
       "10             Pennridge School District                   26.0\n",
       "11             Pennsbury School District                   31.4\n",
       "12  Quakertown Community School District                   40.0"
      ]
     },
     "execution_count": 15,
     "metadata": {},
     "output_type": "execute_result"
    }
   ],
   "source": [
    "b1"
   ]
  },
  {
   "cell_type": "code",
   "execution_count": 16,
   "id": "53a000af",
   "metadata": {},
   "outputs": [
    {
     "name": "stderr",
     "output_type": "stream",
     "text": [
      "C:\\Users\\c_ull\\AppData\\Local\\Temp\\ipykernel_1212\\3277968672.py:1: SettingWithCopyWarning: \n",
      "A value is trying to be set on a copy of a slice from a DataFrame.\n",
      "Try using .loc[row_indexer,col_indexer] = value instead\n",
      "\n",
      "See the caveats in the documentation: https://pandas.pydata.org/pandas-docs/stable/user_guide/indexing.html#returning-a-view-versus-a-copy\n",
      "  c2['District Name'] = c2['District Name'].str.title().str.replace(\"Sd\",'School District')\n"
     ]
    }
   ],
   "source": [
    "c2['District Name'] = c2['District Name'].str.title().str.replace(\"Sd\",'School District')"
   ]
  },
  {
   "cell_type": "code",
   "execution_count": 17,
   "id": "7ea3031d",
   "metadata": {},
   "outputs": [],
   "source": [
    "keys = b1['District Name']\n",
    "values = b1.PercentofEnrollemntED\n",
    "dict1 = dict(zip(keys,values))"
   ]
  },
  {
   "cell_type": "code",
   "execution_count": 18,
   "id": "4e8a34cd",
   "metadata": {},
   "outputs": [
    {
     "name": "stderr",
     "output_type": "stream",
     "text": [
      "C:\\Users\\c_ull\\AppData\\Local\\Temp\\ipykernel_1212\\654926273.py:1: SettingWithCopyWarning: \n",
      "A value is trying to be set on a copy of a slice from a DataFrame.\n",
      "Try using .loc[row_indexer,col_indexer] = value instead\n",
      "\n",
      "See the caveats in the documentation: https://pandas.pydata.org/pandas-docs/stable/user_guide/indexing.html#returning-a-view-versus-a-copy\n",
      "  c2['pct_ED']=c2['District Name'].map(dict1)\n"
     ]
    }
   ],
   "source": [
    "c2['pct_ED']=c2['District Name'].map(dict1)"
   ]
  },
  {
   "cell_type": "code",
   "execution_count": 19,
   "id": "1935d65c",
   "metadata": {},
   "outputs": [],
   "source": [
    "c3 = c2[c2.Group=='All Students']"
   ]
  },
  {
   "cell_type": "code",
   "execution_count": 20,
   "id": "ecae7d0d",
   "metadata": {},
   "outputs": [
    {
     "data": {
      "text/plain": [
       "Index(['Year', 'AUN', 'County', 'District Name', 'Subject', 'Group', 'Grade',\n",
       "       'Number Scored', 'Percent Advanced', 'Percent Proficient',\n",
       "       'Percent Basic', 'Percent Below Basic', 'Percent Proficient and above',\n",
       "       'pct_ED'],\n",
       "      dtype='object')"
      ]
     },
     "execution_count": 20,
     "metadata": {},
     "output_type": "execute_result"
    }
   ],
   "source": [
    "c3.columns"
   ]
  },
  {
   "cell_type": "code",
   "execution_count": 31,
   "id": "4bbc8e70",
   "metadata": {},
   "outputs": [
    {
     "data": {
      "image/png": "[encoded data removed]",
      "text/plain": [
       "<Figure size 864x576 with 1 Axes>"
      ]
     },
     "metadata": {},
     "output_type": "display_data"
    },
    {
     "name": "stdout",
     "output_type": "stream",
     "text": [
      "Scatter plot saved to Scatter_plots\\Math_Proficiency_vs_pctED.png\n"
     ]
    }
   ],
   "source": [
    "import matplotlib.pyplot as plt\n",
    "import seaborn as sns\n",
    "import os\n",
    "\n",
    "# Filter the data for the chosen subject, e.g., 'Math'\n",
    "subject_filter = 'Math'  # Change to 'English Language Arts' or 'Science' as needed\n",
    "filtered_c3 = c3[c3['Subject'] == subject_filter]\n",
    "\n",
    "# Create the folder \"Scatter_plots\" if it doesn't exist\n",
    "output_dir = 'Scatter_plots'\n",
    "os.makedirs(output_dir, exist_ok=True)\n",
    "\n",
    "# Set the plot style\n",
    "sns.set(style=\"whitegrid\")\n",
    "\n",
    "# Define a larger color palette for 13 districts\n",
    "palette = sns.color_palette('tab20', n_colors=13)\n",
    "\n",
    "# Initialize the plot\n",
    "plt.figure(figsize=(12, 8))\n",
    "\n",
    "# Scatter plot with hue based on 'District Name' using the expanded color palette\n",
    "sns.scatterplot(\n",
    "    data=filtered_c3,\n",
    "    x='pct_ED',\n",
    "    y='Percent Proficient and above',\n",
    "    hue='District Name',\n",
    "    palette=palette,\n",
    "    s=120,\n",
    "    alpha=0.8,\n",
    "    edgecolor='black'\n",
    ")\n",
    "\n",
    "# Plot labels and title\n",
    "plt.xlabel('Percent Economically Disadvantaged (pct_ED)', fontsize=12)\n",
    "plt.ylabel('Percent Proficient and Above', fontsize=12)\n",
    "plt.title(f'{subject_filter} Proficiency vs. Economic Disadvantage by District', fontsize=14)\n",
    "plt.legend(title='District Name', bbox_to_anchor=(1.05, 1), loc='upper left')\n",
    "plt.tight_layout()\n",
    "\n",
    "# Define the file path\n",
    "file_path = os.path.join(output_dir, f'{subject_filter}_Proficiency_vs_pctED.png')\n",
    "\n",
    "# Save the plot as a PNG image\n",
    "plt.savefig(file_path, dpi=300, bbox_inches='tight')\n",
    "\n",
    "# Show the plot\n",
    "plt.show()\n",
    "\n",
    "print(f\"Scatter plot saved to {file_path}\")"
   ]
  },
  {
   "cell_type": "code",
   "execution_count": 28,
   "id": "e2bfdd84",
   "metadata": {},
   "outputs": [
    {
     "data": {
      "text/plain": [
       "['English Language Arts', 'Math', 'Science']"
      ]
     },
     "execution_count": 28,
     "metadata": {},
     "output_type": "execute_result"
    }
   ],
   "source": []
  },
  {
   "cell_type": "code",
   "execution_count": null,
   "id": "d30fe729",
   "metadata": {},
   "outputs": [],
   "source": []
  }
 ],
 "metadata": {
  "kernelspec": {
   "display_name": "Python 3 (ipykernel)",
   "language": "python",
   "name": "python3"
  },
  "language_info": {
   "codemirror_mode": {
    "name": "ipython",
    "version": 3
   },
   "file_extension": ".py",
   "mimetype": "text/x-python",
   "name": "python",
   "nbconvert_exporter": "python",
   "pygments_lexer": "ipython3",
   "version": "3.10.5"
  }
 },
 "nbformat": 4,
 "nbformat_minor": 5
}
