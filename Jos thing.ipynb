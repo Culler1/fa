{
 "cells": [
  {
   "cell_type": "code",
   "execution_count": 1,
   "id": "4ba2cbda",
   "metadata": {},
   "outputs": [],
   "source": [
    "import pandas as pd"
   ]
  },
  {
   "cell_type": "code",
   "execution_count": 3,
   "id": "a88cf12c",
   "metadata": {},
   "outputs": [],
   "source": [
    "a1=pd.read_csv(\"C://Users/c_ull/data-projects/Falls electric permits - original.csv\")"
   ]
  },
  {
   "cell_type": "code",
   "execution_count": 6,
   "id": "85ef1bb8",
   "metadata": {},
   "outputs": [],
   "source": [
    "a1.columns=a1.columns.str.lower().str.replace(\"#\",'',regex=False).str.strip().str.replace(\" \",'_')"
   ]
  },
  {
   "cell_type": "code",
   "execution_count": 8,
   "id": "01453bc3",
   "metadata": {},
   "outputs": [
    {
     "name": "stdout",
     "output_type": "stream",
     "text": [
      "<class 'pandas.core.frame.DataFrame'>\n",
      "RangeIndex: 1795 entries, 0 to 1794\n",
      "Data columns (total 6 columns):\n",
      " #   Column           Non-Null Count  Dtype \n",
      "---  ------           --------------  ----- \n",
      " 0   permit           1561 non-null   object\n",
      " 1   job_address      1598 non-null   object\n",
      " 2   permit_category  1628 non-null   object\n",
      " 3   permit_type      1541 non-null   object\n",
      " 4   contractor       1405 non-null   object\n",
      " 5   finaled          1164 non-null   object\n",
      "dtypes: object(6)\n",
      "memory usage: 84.3+ KB\n"
     ]
    }
   ],
   "source": [
    "a1.info()"
   ]
  },
  {
   "cell_type": "code",
   "execution_count": 13,
   "id": "0e3f5f77",
   "metadata": {},
   "outputs": [],
   "source": [
    "a1=a1[(a1.permit!='Grand Total Permits:')&(a1.permit_type!='Total Permits For Type:')]"
   ]
  },
  {
   "cell_type": "code",
   "execution_count": 16,
   "id": "13e76f8a",
   "metadata": {},
   "outputs": [],
   "source": [
    "a1.contractor.value_counts().to_clipboard()"
   ]
  },
  {
   "cell_type": "code",
   "execution_count": null,
   "id": "d6aced71",
   "metadata": {},
   "outputs": [],
   "source": [
    "\n"
   ]
  }
 ],
 "metadata": {
  "kernelspec": {
   "display_name": "Python 3 (ipykernel)",
   "language": "python",
   "name": "python3"
  },
  "language_info": {
   "codemirror_mode": {
    "name": "ipython",
    "version": 3
   },
   "file_extension": ".py",
   "mimetype": "text/x-python",
   "name": "python",
   "nbconvert_exporter": "python",
   "pygments_lexer": "ipython3",
   "version": "3.9.7"
  }
 },
 "nbformat": 4,
 "nbformat_minor": 5
}
