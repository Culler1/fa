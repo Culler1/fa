{
 "cells": [
  {
   "cell_type": "code",
   "execution_count": 1,
   "metadata": {},
   "outputs": [],
   "source": [
    "import pandas as pd\n",
    "import geopandas as gpd\n",
    "import matplotlib\n",
    "import matplotlib.pyplot as plt\n",
    "plt.style.use('ggplot')\n",
    "from matplotlib import colors\n",
    "import numpy as np\n",
    "import datetime as dt\n",
    "%matplotlib inline\n",
    "from mpl_toolkits.axes_grid1 import make_axes_locatable\n",
    "import os, ssl\n",
    "import glob\n",
    "if (not os.environ.get('PYTHONHTTPSVERIFY', '') and\n",
    "getattr(ssl, '_create_unverified_context', None)):\n",
    "    ssl._create_default_https_context = ssl._create_unverified_context"
   ]
  },
  {
   "cell_type": "code",
   "execution_count": 2,
   "metadata": {},
   "outputs": [],
   "source": [
    "merge_master=pd.read_csv(\"merge_master.csv\")"
   ]
  },
  {
   "cell_type": "code",
   "execution_count": 3,
   "metadata": {},
   "outputs": [
    {
     "data": {
      "text/plain": [
       "d_type\n",
       "Congress        31042.000000\n",
       "State House      2752.492611\n",
       "State Senate    11175.120000\n",
       "Name: dvr22, dtype: float64"
      ]
     },
     "execution_count": 3,
     "metadata": {},
     "output_type": "execute_result"
    }
   ],
   "source": [
    "merge_master.groupby('d_type').dvr22.mean()"
   ]
  },
  {
   "cell_type": "code",
   "execution_count": 4,
   "metadata": {},
   "outputs": [
    {
     "data": {
      "text/plain": [
       "d_type\n",
       "Congress        35147.722222\n",
       "State House      3116.546798\n",
       "State Senate    12653.180000\n",
       "Name: dvr21, dtype: float64"
      ]
     },
     "execution_count": 4,
     "metadata": {},
     "output_type": "execute_result"
    }
   ],
   "source": [
    "merge_master.groupby('d_type').dvr21.mean()"
   ]
  },
  {
   "cell_type": "code",
   "execution_count": 5,
   "metadata": {},
   "outputs": [
    {
     "data": {
      "text/plain": [
       "8728302.0"
      ]
     },
     "execution_count": 5,
     "metadata": {},
     "output_type": "execute_result"
    }
   ],
   "source": [
    "merge_master[merge_master.d_type==\"State Senate\"].voter_22.sum()"
   ]
  },
  {
   "cell_type": "code",
   "execution_count": 6,
   "metadata": {},
   "outputs": [
    {
     "data": {
      "text/plain": [
       "8756799.0"
      ]
     },
     "execution_count": 6,
     "metadata": {},
     "output_type": "execute_result"
    }
   ],
   "source": [
    "merge_master[merge_master.d_type==\"State Senate\"].voter_21.sum()"
   ]
  },
  {
   "cell_type": "code",
   "execution_count": 7,
   "metadata": {},
   "outputs": [
    {
     "data": {
      "text/plain": [
       "28497.0"
      ]
     },
     "execution_count": 7,
     "metadata": {},
     "output_type": "execute_result"
    }
   ],
   "source": [
    "8756799.0-8728302.0"
   ]
  },
  {
   "cell_type": "code",
   "execution_count": 8,
   "metadata": {},
   "outputs": [
    {
     "data": {
      "text/plain": [
       "(124, 19)"
      ]
     },
     "execution_count": 8,
     "metadata": {},
     "output_type": "execute_result"
    }
   ],
   "source": [
    "merge_master[(merge_master.v_up_down>0)&(merge_master.district!='USC18')].sort_values(by='v_up_down',ascending=False).shape#.head(50)"
   ]
  },
  {
   "cell_type": "code",
   "execution_count": 9,
   "metadata": {},
   "outputs": [
    {
     "data": {
      "text/plain": [
       "(146, 19)"
      ]
     },
     "execution_count": 9,
     "metadata": {},
     "output_type": "execute_result"
    }
   ],
   "source": [
    "merge_master[(merge_master.v_up_down<0)&(merge_master.district!='USC18')].sort_values(by='v_up_down',ascending=False).shape#.head(50)"
   ]
  },
  {
   "cell_type": "code",
   "execution_count": 10,
   "metadata": {},
   "outputs": [
    {
     "data": {
      "text/html": [
       "<div>\n",
       "<style scoped>\n",
       "    .dataframe tbody tr th:only-of-type {\n",
       "        vertical-align: middle;\n",
       "    }\n",
       "\n",
       "    .dataframe tbody tr th {\n",
       "        vertical-align: top;\n",
       "    }\n",
       "\n",
       "    .dataframe thead th {\n",
       "        text-align: right;\n",
       "    }\n",
       "</style>\n",
       "<table border=\"1\" class=\"dataframe\">\n",
       "  <thead>\n",
       "    <tr style=\"text-align: right;\">\n",
       "      <th></th>\n",
       "      <th>district</th>\n",
       "      <th>voter_21</th>\n",
       "      <th>Rvoter_21</th>\n",
       "      <th>Dvoter_21</th>\n",
       "      <th>d_type</th>\n",
       "      <th>voter_22</th>\n",
       "      <th>Rvoter_22</th>\n",
       "      <th>Dvoter_22</th>\n",
       "      <th>oth21</th>\n",
       "      <th>oth22</th>\n",
       "      <th>v_up_down</th>\n",
       "      <th>d_up_down</th>\n",
       "      <th>r_up_down</th>\n",
       "      <th>oth_up_down</th>\n",
       "      <th>dvr21</th>\n",
       "      <th>dvr22</th>\n",
       "      <th>part_control21</th>\n",
       "      <th>part_control22</th>\n",
       "      <th>party_switch</th>\n",
       "    </tr>\n",
       "  </thead>\n",
       "  <tbody>\n",
       "    <tr>\n",
       "      <th>0</th>\n",
       "      <td>STH001</td>\n",
       "      <td>32587.0</td>\n",
       "      <td>7298.0</td>\n",
       "      <td>20431.0</td>\n",
       "      <td>State House</td>\n",
       "      <td>37874.0</td>\n",
       "      <td>9233.0</td>\n",
       "      <td>22784.0</td>\n",
       "      <td>4858.0</td>\n",
       "      <td>5857.0</td>\n",
       "      <td>-5287.0</td>\n",
       "      <td>-2353.0</td>\n",
       "      <td>-1935.0</td>\n",
       "      <td>-999.0</td>\n",
       "      <td>13133.0</td>\n",
       "      <td>13551.0</td>\n",
       "      <td>Dem</td>\n",
       "      <td>Dem</td>\n",
       "      <td>False</td>\n",
       "    </tr>\n",
       "    <tr>\n",
       "      <th>1</th>\n",
       "      <td>STH002</td>\n",
       "      <td>37962.0</td>\n",
       "      <td>11367.0</td>\n",
       "      <td>21313.0</td>\n",
       "      <td>State House</td>\n",
       "      <td>42797.0</td>\n",
       "      <td>14269.0</td>\n",
       "      <td>22747.0</td>\n",
       "      <td>5282.0</td>\n",
       "      <td>5781.0</td>\n",
       "      <td>-4835.0</td>\n",
       "      <td>-1434.0</td>\n",
       "      <td>-2902.0</td>\n",
       "      <td>-499.0</td>\n",
       "      <td>9946.0</td>\n",
       "      <td>8478.0</td>\n",
       "      <td>Dem</td>\n",
       "      <td>Dem</td>\n",
       "      <td>False</td>\n",
       "    </tr>\n",
       "    <tr>\n",
       "      <th>2</th>\n",
       "      <td>STH003</td>\n",
       "      <td>45713.0</td>\n",
       "      <td>18581.0</td>\n",
       "      <td>21210.0</td>\n",
       "      <td>State House</td>\n",
       "      <td>47820.0</td>\n",
       "      <td>19858.0</td>\n",
       "      <td>21862.0</td>\n",
       "      <td>5922.0</td>\n",
       "      <td>6100.0</td>\n",
       "      <td>-2107.0</td>\n",
       "      <td>-652.0</td>\n",
       "      <td>-1277.0</td>\n",
       "      <td>-178.0</td>\n",
       "      <td>2629.0</td>\n",
       "      <td>2004.0</td>\n",
       "      <td>Dem</td>\n",
       "      <td>Dem</td>\n",
       "      <td>False</td>\n",
       "    </tr>\n",
       "    <tr>\n",
       "      <th>3</th>\n",
       "      <td>STH004</td>\n",
       "      <td>38911.0</td>\n",
       "      <td>18890.0</td>\n",
       "      <td>14794.0</td>\n",
       "      <td>State House</td>\n",
       "      <td>42736.0</td>\n",
       "      <td>21301.0</td>\n",
       "      <td>15236.0</td>\n",
       "      <td>5227.0</td>\n",
       "      <td>6199.0</td>\n",
       "      <td>-3825.0</td>\n",
       "      <td>-442.0</td>\n",
       "      <td>-2411.0</td>\n",
       "      <td>-972.0</td>\n",
       "      <td>-4096.0</td>\n",
       "      <td>-6065.0</td>\n",
       "      <td>GOP</td>\n",
       "      <td>GOP</td>\n",
       "      <td>False</td>\n",
       "    </tr>\n",
       "    <tr>\n",
       "      <th>4</th>\n",
       "      <td>STH005</td>\n",
       "      <td>40626.0</td>\n",
       "      <td>20902.0</td>\n",
       "      <td>13798.0</td>\n",
       "      <td>State House</td>\n",
       "      <td>41277.0</td>\n",
       "      <td>21665.0</td>\n",
       "      <td>13766.0</td>\n",
       "      <td>5926.0</td>\n",
       "      <td>5846.0</td>\n",
       "      <td>-651.0</td>\n",
       "      <td>32.0</td>\n",
       "      <td>-763.0</td>\n",
       "      <td>80.0</td>\n",
       "      <td>-7104.0</td>\n",
       "      <td>-7899.0</td>\n",
       "      <td>GOP</td>\n",
       "      <td>GOP</td>\n",
       "      <td>False</td>\n",
       "    </tr>\n",
       "    <tr>\n",
       "      <th>...</th>\n",
       "      <td>...</td>\n",
       "      <td>...</td>\n",
       "      <td>...</td>\n",
       "      <td>...</td>\n",
       "      <td>...</td>\n",
       "      <td>...</td>\n",
       "      <td>...</td>\n",
       "      <td>...</td>\n",
       "      <td>...</td>\n",
       "      <td>...</td>\n",
       "      <td>...</td>\n",
       "      <td>...</td>\n",
       "      <td>...</td>\n",
       "      <td>...</td>\n",
       "      <td>...</td>\n",
       "      <td>...</td>\n",
       "      <td>...</td>\n",
       "      <td>...</td>\n",
       "      <td>...</td>\n",
       "    </tr>\n",
       "    <tr>\n",
       "      <th>266</th>\n",
       "      <td>USC14</td>\n",
       "      <td>465475.0</td>\n",
       "      <td>213444.0</td>\n",
       "      <td>197769.0</td>\n",
       "      <td>Congress</td>\n",
       "      <td>500909.0</td>\n",
       "      <td>244933.0</td>\n",
       "      <td>197497.0</td>\n",
       "      <td>54262.0</td>\n",
       "      <td>58479.0</td>\n",
       "      <td>-35434.0</td>\n",
       "      <td>272.0</td>\n",
       "      <td>-31489.0</td>\n",
       "      <td>-4217.0</td>\n",
       "      <td>-15675.0</td>\n",
       "      <td>-47436.0</td>\n",
       "      <td>GOP</td>\n",
       "      <td>GOP</td>\n",
       "      <td>False</td>\n",
       "    </tr>\n",
       "    <tr>\n",
       "      <th>267</th>\n",
       "      <td>USC15</td>\n",
       "      <td>427261.0</td>\n",
       "      <td>240500.0</td>\n",
       "      <td>135027.0</td>\n",
       "      <td>Congress</td>\n",
       "      <td>482350.0</td>\n",
       "      <td>271200.0</td>\n",
       "      <td>144883.0</td>\n",
       "      <td>51734.0</td>\n",
       "      <td>66267.0</td>\n",
       "      <td>-55089.0</td>\n",
       "      <td>-9856.0</td>\n",
       "      <td>-30700.0</td>\n",
       "      <td>-14533.0</td>\n",
       "      <td>-105473.0</td>\n",
       "      <td>-126317.0</td>\n",
       "      <td>GOP</td>\n",
       "      <td>GOP</td>\n",
       "      <td>False</td>\n",
       "    </tr>\n",
       "    <tr>\n",
       "      <th>268</th>\n",
       "      <td>USC16</td>\n",
       "      <td>460620.0</td>\n",
       "      <td>213840.0</td>\n",
       "      <td>185047.0</td>\n",
       "      <td>Congress</td>\n",
       "      <td>504527.0</td>\n",
       "      <td>242624.0</td>\n",
       "      <td>193749.0</td>\n",
       "      <td>61733.0</td>\n",
       "      <td>68154.0</td>\n",
       "      <td>-43907.0</td>\n",
       "      <td>-8702.0</td>\n",
       "      <td>-28784.0</td>\n",
       "      <td>-6421.0</td>\n",
       "      <td>-28793.0</td>\n",
       "      <td>-48875.0</td>\n",
       "      <td>GOP</td>\n",
       "      <td>GOP</td>\n",
       "      <td>False</td>\n",
       "    </tr>\n",
       "    <tr>\n",
       "      <th>269</th>\n",
       "      <td>USC17</td>\n",
       "      <td>530370.0</td>\n",
       "      <td>196340.0</td>\n",
       "      <td>257380.0</td>\n",
       "      <td>Congress</td>\n",
       "      <td>552555.0</td>\n",
       "      <td>197116.0</td>\n",
       "      <td>274964.0</td>\n",
       "      <td>76650.0</td>\n",
       "      <td>80475.0</td>\n",
       "      <td>-22185.0</td>\n",
       "      <td>-17584.0</td>\n",
       "      <td>-776.0</td>\n",
       "      <td>-3825.0</td>\n",
       "      <td>61040.0</td>\n",
       "      <td>77848.0</td>\n",
       "      <td>Dem</td>\n",
       "      <td>Dem</td>\n",
       "      <td>False</td>\n",
       "    </tr>\n",
       "    <tr>\n",
       "      <th>270</th>\n",
       "      <td>USC18</td>\n",
       "      <td>525157.0</td>\n",
       "      <td>119530.0</td>\n",
       "      <td>330978.0</td>\n",
       "      <td>Congress</td>\n",
       "      <td>1010.0</td>\n",
       "      <td>292.0</td>\n",
       "      <td>585.0</td>\n",
       "      <td>74649.0</td>\n",
       "      <td>133.0</td>\n",
       "      <td>524147.0</td>\n",
       "      <td>330393.0</td>\n",
       "      <td>119238.0</td>\n",
       "      <td>74516.0</td>\n",
       "      <td>211448.0</td>\n",
       "      <td>293.0</td>\n",
       "      <td>Dem</td>\n",
       "      <td>Dem</td>\n",
       "      <td>False</td>\n",
       "    </tr>\n",
       "  </tbody>\n",
       "</table>\n",
       "<p>271 rows × 19 columns</p>\n",
       "</div>"
      ],
      "text/plain": [
       "    district  voter_21  Rvoter_21  Dvoter_21       d_type  voter_22  \\\n",
       "0     STH001   32587.0     7298.0    20431.0  State House   37874.0   \n",
       "1     STH002   37962.0    11367.0    21313.0  State House   42797.0   \n",
       "2     STH003   45713.0    18581.0    21210.0  State House   47820.0   \n",
       "3     STH004   38911.0    18890.0    14794.0  State House   42736.0   \n",
       "4     STH005   40626.0    20902.0    13798.0  State House   41277.0   \n",
       "..       ...       ...        ...        ...          ...       ...   \n",
       "266    USC14  465475.0   213444.0   197769.0     Congress  500909.0   \n",
       "267    USC15  427261.0   240500.0   135027.0     Congress  482350.0   \n",
       "268    USC16  460620.0   213840.0   185047.0     Congress  504527.0   \n",
       "269    USC17  530370.0   196340.0   257380.0     Congress  552555.0   \n",
       "270    USC18  525157.0   119530.0   330978.0     Congress    1010.0   \n",
       "\n",
       "     Rvoter_22  Dvoter_22    oth21    oth22  v_up_down  d_up_down  r_up_down  \\\n",
       "0       9233.0    22784.0   4858.0   5857.0    -5287.0    -2353.0    -1935.0   \n",
       "1      14269.0    22747.0   5282.0   5781.0    -4835.0    -1434.0    -2902.0   \n",
       "2      19858.0    21862.0   5922.0   6100.0    -2107.0     -652.0    -1277.0   \n",
       "3      21301.0    15236.0   5227.0   6199.0    -3825.0     -442.0    -2411.0   \n",
       "4      21665.0    13766.0   5926.0   5846.0     -651.0       32.0     -763.0   \n",
       "..         ...        ...      ...      ...        ...        ...        ...   \n",
       "266   244933.0   197497.0  54262.0  58479.0   -35434.0      272.0   -31489.0   \n",
       "267   271200.0   144883.0  51734.0  66267.0   -55089.0    -9856.0   -30700.0   \n",
       "268   242624.0   193749.0  61733.0  68154.0   -43907.0    -8702.0   -28784.0   \n",
       "269   197116.0   274964.0  76650.0  80475.0   -22185.0   -17584.0     -776.0   \n",
       "270      292.0      585.0  74649.0    133.0   524147.0   330393.0   119238.0   \n",
       "\n",
       "     oth_up_down     dvr21     dvr22 part_control21 part_control22  \\\n",
       "0         -999.0   13133.0   13551.0            Dem            Dem   \n",
       "1         -499.0    9946.0    8478.0            Dem            Dem   \n",
       "2         -178.0    2629.0    2004.0            Dem            Dem   \n",
       "3         -972.0   -4096.0   -6065.0            GOP            GOP   \n",
       "4           80.0   -7104.0   -7899.0            GOP            GOP   \n",
       "..           ...       ...       ...            ...            ...   \n",
       "266      -4217.0  -15675.0  -47436.0            GOP            GOP   \n",
       "267     -14533.0 -105473.0 -126317.0            GOP            GOP   \n",
       "268      -6421.0  -28793.0  -48875.0            GOP            GOP   \n",
       "269      -3825.0   61040.0   77848.0            Dem            Dem   \n",
       "270      74516.0  211448.0     293.0            Dem            Dem   \n",
       "\n",
       "     party_switch  \n",
       "0           False  \n",
       "1           False  \n",
       "2           False  \n",
       "3           False  \n",
       "4           False  \n",
       "..            ...  \n",
       "266         False  \n",
       "267         False  \n",
       "268         False  \n",
       "269         False  \n",
       "270         False  \n",
       "\n",
       "[271 rows x 19 columns]"
      ]
     },
     "execution_count": 10,
     "metadata": {},
     "output_type": "execute_result"
    }
   ],
   "source": [
    "merge_master"
   ]
  },
  {
   "cell_type": "code",
   "execution_count": null,
   "metadata": {},
   "outputs": [],
   "source": []
  }
 ],
 "metadata": {
  "kernelspec": {
   "display_name": "Python 3 (ipykernel)",
   "language": "python",
   "name": "python3"
  },
  "language_info": {
   "codemirror_mode": {
    "name": "ipython",
    "version": 3
   },
   "file_extension": ".py",
   "mimetype": "text/x-python",
   "name": "python",
   "nbconvert_exporter": "python",
   "pygments_lexer": "ipython3",
   "version": "3.8.5"
  }
 },
 "nbformat": 4,
 "nbformat_minor": 4
}
